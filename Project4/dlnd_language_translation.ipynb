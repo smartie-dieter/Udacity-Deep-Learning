{
 "cells": [
  {
   "cell_type": "markdown",
   "metadata": {
    "collapsed": true,
    "deletable": true,
    "editable": true
   },
   "source": [
    "# Language Translation\n",
    "In this project, you’re going to take a peek into the realm of neural network machine translation.  You’ll be training a sequence to sequence model on a dataset of English and French sentences that can translate new sentences from English to French.\n",
    "## Get the Data\n",
    "Since translating the whole language of English to French will take lots of time to train, we have provided you with a small portion of the English corpus."
   ]
  },
  {
   "cell_type": "code",
   "execution_count": 1,
   "metadata": {
    "collapsed": false,
    "deletable": true,
    "editable": true
   },
   "outputs": [],
   "source": [
    "\"\"\"\n",
    "DON'T MODIFY ANYTHING IN THIS CELL\n",
    "\"\"\"\n",
    "import helper\n",
    "import problem_unittests as tests\n",
    "\n",
    "source_path = 'data/small_vocab_en'\n",
    "target_path = 'data/small_vocab_fr'\n",
    "source_text = helper.load_data(source_path)\n",
    "target_text = helper.load_data(target_path)"
   ]
  },
  {
   "cell_type": "markdown",
   "metadata": {
    "deletable": true,
    "editable": true
   },
   "source": [
    "## Explore the Data\n",
    "Play around with view_sentence_range to view different parts of the data."
   ]
  },
  {
   "cell_type": "code",
   "execution_count": 2,
   "metadata": {
    "collapsed": false,
    "deletable": true,
    "editable": true
   },
   "outputs": [
    {
     "name": "stdout",
     "output_type": "stream",
     "text": [
      "Dataset Stats\n",
      "Roughly the number of unique words: 227\n",
      "Number of sentences: 137861\n",
      "Average number of words in a sentence: 13.225277634719028\n",
      "\n",
      "English sentences 0 to 10:\n",
      "new jersey is sometimes quiet during autumn , and it is snowy in april .\n",
      "the united states is usually chilly during july , and it is usually freezing in november .\n",
      "california is usually quiet during march , and it is usually hot in june .\n",
      "the united states is sometimes mild during june , and it is cold in september .\n",
      "your least liked fruit is the grape , but my least liked is the apple .\n",
      "his favorite fruit is the orange , but my favorite is the grape .\n",
      "paris is relaxing during december , but it is usually chilly in july .\n",
      "new jersey is busy during spring , and it is never hot in march .\n",
      "our least liked fruit is the lemon , but my least liked is the grape .\n",
      "the united states is sometimes busy during january , and it is sometimes warm in november .\n",
      "\n",
      "French sentences 0 to 10:\n",
      "new jersey est parfois calme pendant l' automne , et il est neigeux en avril .\n",
      "les états-unis est généralement froid en juillet , et il gèle habituellement en novembre .\n",
      "california est généralement calme en mars , et il est généralement chaud en juin .\n",
      "les états-unis est parfois légère en juin , et il fait froid en septembre .\n",
      "votre moins aimé fruit est le raisin , mais mon moins aimé est la pomme .\n",
      "son fruit préféré est l'orange , mais mon préféré est le raisin .\n",
      "paris est relaxant en décembre , mais il est généralement froid en juillet .\n",
      "new jersey est occupé au printemps , et il est jamais chaude en mars .\n",
      "notre fruit est moins aimé le citron , mais mon moins aimé est le raisin .\n",
      "les états-unis est parfois occupé en janvier , et il est parfois chaud en novembre .\n"
     ]
    }
   ],
   "source": [
    "view_sentence_range = (0, 10)\n",
    "\n",
    "\"\"\"\n",
    "DON'T MODIFY ANYTHING IN THIS CELL\n",
    "\"\"\"\n",
    "import numpy as np\n",
    "\n",
    "print('Dataset Stats')\n",
    "print('Roughly the number of unique words: {}'.format(len({word: None for word in source_text.split()})))\n",
    "\n",
    "sentences = source_text.split('\\n')\n",
    "word_counts = [len(sentence.split()) for sentence in sentences]\n",
    "print('Number of sentences: {}'.format(len(sentences)))\n",
    "print('Average number of words in a sentence: {}'.format(np.average(word_counts)))\n",
    "\n",
    "print()\n",
    "print('English sentences {} to {}:'.format(*view_sentence_range))\n",
    "print('\\n'.join(source_text.split('\\n')[view_sentence_range[0]:view_sentence_range[1]]))\n",
    "print()\n",
    "print('French sentences {} to {}:'.format(*view_sentence_range))\n",
    "print('\\n'.join(target_text.split('\\n')[view_sentence_range[0]:view_sentence_range[1]]))"
   ]
  },
  {
   "cell_type": "markdown",
   "metadata": {
    "deletable": true,
    "editable": true
   },
   "source": [
    "## Implement Preprocessing Function\n",
    "### Text to Word Ids\n",
    "As you did with other RNNs, you must turn the text into a number so the computer can understand it. In the function `text_to_ids()`, you'll turn `source_text` and `target_text` from words to ids.  However, you need to add the `<EOS>` word id at the end of each sentence from `target_text`.  This will help the neural network predict when the sentence should end.\n",
    "\n",
    "You can get the `<EOS>` word id by doing:\n",
    "```python\n",
    "target_vocab_to_int['<EOS>']\n",
    "```\n",
    "You can get other word ids using `source_vocab_to_int` and `target_vocab_to_int`."
   ]
  },
  {
   "cell_type": "markdown",
   "metadata": {
    "deletable": true,
    "editable": true
   },
   "source": [
    "### Preprocess all the data and save it\n",
    "Running the code cell below will preprocess all the data and save it to file."
   ]
  },
  {
   "cell_type": "code",
   "execution_count": 3,
   "metadata": {
    "collapsed": true
   },
   "outputs": [],
   "source": [
    "def text2words(vocab_to_int, text):\n",
    "    return [[vocab_to_int[word] for word in sentence.split()] for sentence in text.split('\\n')]\n",
    "  "
   ]
  },
  {
   "cell_type": "code",
   "execution_count": 4,
   "metadata": {
    "collapsed": false,
    "deletable": true,
    "editable": true
   },
   "outputs": [
    {
     "name": "stdout",
     "output_type": "stream",
     "text": [
      "Tests Passed\n"
     ]
    }
   ],
   "source": [
    "import re\n",
    "def text_to_ids(source_text, target_text, source_vocab_to_int, target_vocab_to_int):\n",
    "\n",
    "    \"\"\"\n",
    "    Convert source and target text to proper word ids\n",
    "    :param source_text: String that contains all the source text.\n",
    "    :param target_text: String that contains all the target text.\n",
    "    :param source_vocab_to_int: Dictionary to go from the source words to an id\n",
    "    :param target_vocab_to_int: Dictionary to go from the target words to an id\n",
    "    :return: A tuple of lists (source_id_text, target_id_text)\n",
    "    \"\"\"\n",
    "\n",
    "    # TODO: Implement Function\n",
    "    '''\n",
    "    # Preprare the data\n",
    "    source_text = source_text.strip() # wow what a shitty data :) - does it end with a \\n ??\n",
    "    source_text = re.sub(' +',' ',source_text)\n",
    "    \n",
    "    # Split the data by \"new line\"\n",
    "    source_texts = source_text.split('\\n')\n",
    "    # replace each word\n",
    "    source =  [[source_vocab_to_int[word] for word in sentence.strip().split(\" \")] for sentence in source_texts]\n",
    "    '''\n",
    "    \n",
    "    #source = [[source_vocab_to_int[word] for word in sentence.split()] for sentence in source_text.split('\\n')]\n",
    "    source = text2words(source_vocab_to_int, source_text)\n",
    "    \n",
    "    '''\n",
    "    # prepare the data\n",
    "    target_text = target_text.strip()\n",
    "    target_text = re.sub(' +',' ',target_text)\n",
    "    \n",
    "    # Split the data by \"new line\"\n",
    "    target_texts = target_text.split('\\n')\n",
    "    # Replace each word \n",
    "    targets =  [[target_vocab_to_int[word] for word in sentence.strip().split(\" \")] for sentence in target_texts]\n",
    "    '''  \n",
    "    \n",
    "    #targets = [[target_vocab_to_int[word] for word in sentence.split()] for sentence in target_text.split('\\n')]    \n",
    "    targets = text2words(target_vocab_to_int, target_text)\n",
    "        \n",
    "    # Add the eos id at the end of each sentence\n",
    "    id_eos = target_vocab_to_int['<EOS>']\n",
    "    target = [ t + [id_eos] for t in targets ]\n",
    "    \n",
    "    return source, target\n",
    "\n",
    "\"\"\"\n",
    "DON'T MODIFY ANYTHING IN THIS CELL THAT IS BELOW THIS LINE\n",
    "\"\"\"\n",
    "tests.test_text_to_ids(text_to_ids)"
   ]
  },
  {
   "cell_type": "code",
   "execution_count": 5,
   "metadata": {
    "collapsed": false,
    "deletable": true,
    "editable": true
   },
   "outputs": [],
   "source": [
    "\"\"\"\n",
    "DON'T MODIFY ANYTHING IN THIS CELL\n",
    "\"\"\"\n",
    "helper.preprocess_and_save_data(source_path, target_path, text_to_ids)"
   ]
  },
  {
   "cell_type": "markdown",
   "metadata": {
    "deletable": true,
    "editable": true
   },
   "source": [
    "# Check Point\n",
    "This is your first checkpoint. If you ever decide to come back to this notebook or have to restart the notebook, you can start from here. The preprocessed data has been saved to disk."
   ]
  },
  {
   "cell_type": "code",
   "execution_count": 6,
   "metadata": {
    "collapsed": false,
    "deletable": true,
    "editable": true
   },
   "outputs": [],
   "source": [
    "\"\"\"\n",
    "DON'T MODIFY ANYTHING IN THIS CELL\n",
    "\"\"\"\n",
    "import numpy as np\n",
    "import helper\n",
    "\n",
    "(source_int_text, target_int_text), (source_vocab_to_int, target_vocab_to_int), _ = helper.load_preprocess()"
   ]
  },
  {
   "cell_type": "markdown",
   "metadata": {
    "deletable": true,
    "editable": true
   },
   "source": [
    "### Check the Version of TensorFlow and Access to GPU\n",
    "This will check to make sure you have the correct version of TensorFlow and access to a GPU"
   ]
  },
  {
   "cell_type": "code",
   "execution_count": 7,
   "metadata": {
    "collapsed": false,
    "deletable": true,
    "editable": true
   },
   "outputs": [
    {
     "name": "stdout",
     "output_type": "stream",
     "text": [
      "TensorFlow Version: 1.0.1\n"
     ]
    },
    {
     "name": "stderr",
     "output_type": "stream",
     "text": [
      "C:\\Program Files\\Anaconda3\\lib\\site-packages\\ipykernel\\__main__.py:14: UserWarning: No GPU found. Please use a GPU to train your neural network.\n"
     ]
    }
   ],
   "source": [
    "\"\"\"\n",
    "DON'T MODIFY ANYTHING IN THIS CELL\n",
    "\"\"\"\n",
    "from distutils.version import LooseVersion\n",
    "import warnings\n",
    "import tensorflow as tf\n",
    "\n",
    "# Check TensorFlow Version\n",
    "assert LooseVersion(tf.__version__) >= LooseVersion('1.0'), 'Please use TensorFlow version 1.0 or newer'\n",
    "print('TensorFlow Version: {}'.format(tf.__version__))\n",
    "\n",
    "# Check for a GPU\n",
    "if not tf.test.gpu_device_name():\n",
    "    warnings.warn('No GPU found. Please use a GPU to train your neural network.')\n",
    "else:\n",
    "    print('Default GPU Device: {}'.format(tf.test.gpu_device_name()))"
   ]
  },
  {
   "cell_type": "markdown",
   "metadata": {
    "deletable": true,
    "editable": true
   },
   "source": [
    "## Build the Neural Network\n",
    "You'll build the components necessary to build a Sequence-to-Sequence model by implementing the following functions below:\n",
    "- `model_inputs`\n",
    "- `process_decoding_input`\n",
    "- `encoding_layer`\n",
    "- `decoding_layer_train`\n",
    "- `decoding_layer_infer`\n",
    "- `decoding_layer`\n",
    "- `seq2seq_model`\n",
    "\n",
    "### Input\n",
    "Implement the `model_inputs()` function to create TF Placeholders for the Neural Network. It should create the following placeholders:\n",
    "\n",
    "- Input text placeholder named \"input\" using the TF Placeholder name parameter with rank 2.\n",
    "- Targets placeholder with rank 2.\n",
    "- Learning rate placeholder with rank 0.\n",
    "- Keep probability placeholder named \"keep_prob\" using the TF Placeholder name parameter with rank 0.\n",
    "\n",
    "Return the placeholders in the following the tuple (Input, Targets, Learing Rate, Keep Probability)"
   ]
  },
  {
   "cell_type": "code",
   "execution_count": 8,
   "metadata": {
    "collapsed": false,
    "deletable": true,
    "editable": true
   },
   "outputs": [
    {
     "name": "stdout",
     "output_type": "stream",
     "text": [
      "Tests Passed\n"
     ]
    }
   ],
   "source": [
    "def model_inputs():\n",
    "    \"\"\"\n",
    "    Create TF Placeholders for input, targets, and learning rate.\n",
    "    :return: Tuple (input, targets, learning rate, keep probability)\n",
    "    \"\"\"\n",
    "    inputs = tf.placeholder(tf.int32, [None, None], name='input')\n",
    "    targets = tf.placeholder(tf.int32, [None, None], name='target')\n",
    "    learingRate = tf.placeholder(tf.float32, name='learingRate')\n",
    "    keep_prob = tf.placeholder(tf.float32, name='keep_prob')\n",
    "    \n",
    "    return inputs, targets, learingRate, keep_prob\n",
    "\n",
    "\"\"\"\n",
    "DON'T MODIFY ANYTHING IN THIS CELL THAT IS BELOW THIS LINE\n",
    "\"\"\"\n",
    "tests.test_model_inputs(model_inputs)"
   ]
  },
  {
   "cell_type": "markdown",
   "metadata": {
    "deletable": true,
    "editable": true
   },
   "source": [
    "\n",
    "### Process Decoding Input\n",
    "Implement `process_decoding_input` using TensorFlow to remove the last word id from each batch in `target_data` and concat the GO ID to the begining of each batch."
   ]
  },
  {
   "cell_type": "code",
   "execution_count": 9,
   "metadata": {
    "collapsed": false,
    "deletable": true,
    "editable": true
   },
   "outputs": [
    {
     "name": "stdout",
     "output_type": "stream",
     "text": [
      "Tests Passed\n"
     ]
    }
   ],
   "source": [
    "def process_decoding_input(target_data, target_vocab_to_int, batch_size):\n",
    "    \"\"\"\n",
    "    Preprocess target data for dencoding\n",
    "    :param target_data: Target Placehoder\n",
    "    :param target_vocab_to_int: Dictionary to go from the target words to an id\n",
    "    :param batch_size: Batch Size\n",
    "    :return: Preprocessed target data\n",
    "    \"\"\"\n",
    "    # TODO: Implement Function\n",
    "    \n",
    "    # remove the last part\n",
    "    target_data = target_data[:, 0:-1]\n",
    "    \n",
    "    # Add go to the first part\n",
    "    '''\n",
    "    go = [target_vocab_to_int['<GO>']]\n",
    "    variable_go = tf.constant(go, shape=[batch_size,1])\n",
    "    print(variable_go)\n",
    "    '''\n",
    "    variable_go = tf.fill([batch_size,1], target_vocab_to_int['<GO>'] )\n",
    "\n",
    "    return tf.concat(axis=1, values=[variable_go, target_data])\n",
    "\n",
    "\"\"\"\n",
    "DON'T MODIFY ANYTHING IN THIS CELL THAT IS BELOW THIS LINE\n",
    "\"\"\"\n",
    "tests.test_process_decoding_input(process_decoding_input)"
   ]
  },
  {
   "cell_type": "markdown",
   "metadata": {
    "deletable": true,
    "editable": true
   },
   "source": [
    "### Encoding\n",
    "Implement `encoding_layer()` to create a Encoder RNN layer using [`tf.nn.dynamic_rnn()`](https://www.tensorflow.org/api_docs/python/tf/nn/dynamic_rnn)."
   ]
  },
  {
   "cell_type": "code",
   "execution_count": 10,
   "metadata": {
    "collapsed": false,
    "deletable": true,
    "editable": true
   },
   "outputs": [
    {
     "name": "stdout",
     "output_type": "stream",
     "text": [
      "Tests Passed\n"
     ]
    }
   ],
   "source": [
    "def encoding_layer(rnn_inputs, rnn_size, num_layers, keep_prob):\n",
    "    \"\"\"\n",
    "    Create encoding layer\n",
    "    : param rnn_inputs: Inputs for the RNN\n",
    "    : param rnn_size: RNN Size\n",
    "    : param num_layers: Number of layers\n",
    "    :param keep_prob: Dropout keep probability\n",
    "    : return: RNN state\n",
    "    \"\"\"\n",
    "    # TODO: Implement Function\n",
    "\n",
    "    \n",
    "    \n",
    "    \n",
    "    cell = [tf.contrib.rnn.BasicLSTMCell(rnn_size)] * num_layers\n",
    "    \n",
    "    cell = tf.contrib.rnn.MultiRNNCell(cell)\n",
    "    \n",
    "    cell = tf.contrib.rnn.DropoutWrapper(cell, input_keep_prob = keep_prob, output_keep_prob = keep_prob)\n",
    "\n",
    "    _, cell = tf.nn.dynamic_rnn(cell, rnn_inputs, dtype=tf.float32)\n",
    " \n",
    "    \n",
    "    \n",
    "    return cell\n",
    "\n",
    "\n",
    "\"\"\"\n",
    "DON'T MODIFY ANYTHING IN THIS CELL THAT IS BELOW THIS LINE\n",
    "\"\"\"\n",
    "tests.test_encoding_layer(encoding_layer)"
   ]
  },
  {
   "cell_type": "markdown",
   "metadata": {
    "deletable": true,
    "editable": true
   },
   "source": [
    "### Decoding - Training\n",
    "Create training logits using [`tf.contrib.seq2seq.simple_decoder_fn_train()`](https://www.tensorflow.org/api_docs/python/tf/contrib/seq2seq/simple_decoder_fn_train) and [`tf.contrib.seq2seq.dynamic_rnn_decoder()`](https://www.tensorflow.org/api_docs/python/tf/contrib/seq2seq/dynamic_rnn_decoder).  Apply the `output_fn` to the [`tf.contrib.seq2seq.dynamic_rnn_decoder()`](https://www.tensorflow.org/api_docs/python/tf/contrib/seq2seq/dynamic_rnn_decoder) outputs."
   ]
  },
  {
   "cell_type": "code",
   "execution_count": 11,
   "metadata": {
    "collapsed": false,
    "deletable": true,
    "editable": true
   },
   "outputs": [
    {
     "name": "stdout",
     "output_type": "stream",
     "text": [
      "Tests Passed\n"
     ]
    }
   ],
   "source": [
    "def decoding_layer_train(encoder_state, dec_cell, dec_embed_input, sequence_length, decoding_scope,\n",
    "                         output_fn, keep_prob):\n",
    "    \"\"\"\n",
    "    Create a decoding layer for training\n",
    "    : param encoder_state: Encoder State\n",
    "    : param dec_cell: Decoder RNN Cell\n",
    "    : param dec_embed_input: Decoder embedded input\n",
    "    : param sequence_length: Sequence Length\n",
    "    : param decoding_scope: TenorFlow Variable Scope for decoding\n",
    "    : param output_fn: Function to apply the output layer\n",
    "    :param keep_prob: Dropout keep probability\n",
    "    : return: Train Logits\n",
    "    \"\"\"\n",
    "    # TODO: Implement Function\n",
    "    \n",
    "    \n",
    "    \n",
    "    \n",
    "    train_decoder_fn = tf.contrib.seq2seq.simple_decoder_fn_train(encoder_state)\n",
    "    \n",
    "    train_pred, _, _ = tf.contrib.seq2seq.dynamic_rnn_decoder(\n",
    "        dec_cell, train_decoder_fn, dec_embed_input, sequence_length, scope=decoding_scope)\n",
    "    \n",
    "    \n",
    "    # Apply output function\n",
    "    train_logits = tf.nn.dropout(train_pred, keep_prob)\n",
    "    \n",
    "    train_logits =  output_fn(train_logits)\n",
    "    \n",
    "    \n",
    "    \n",
    "    return train_logits\n",
    "\n",
    "\n",
    "\"\"\"\n",
    "DON'T MODIFY ANYTHING IN THIS CELL THAT IS BELOW THIS LINE\n",
    "\"\"\"\n",
    "tests.test_decoding_layer_train(decoding_layer_train)"
   ]
  },
  {
   "cell_type": "markdown",
   "metadata": {
    "deletable": true,
    "editable": true
   },
   "source": [
    "### Decoding - Inference\n",
    "Create inference logits using [`tf.contrib.seq2seq.simple_decoder_fn_inference()`](https://www.tensorflow.org/api_docs/python/tf/contrib/seq2seq/simple_decoder_fn_inference) and [`tf.contrib.seq2seq.dynamic_rnn_decoder()`](https://www.tensorflow.org/api_docs/python/tf/contrib/seq2seq/dynamic_rnn_decoder). "
   ]
  },
  {
   "cell_type": "code",
   "execution_count": 12,
   "metadata": {
    "collapsed": false,
    "deletable": true,
    "editable": true
   },
   "outputs": [
    {
     "name": "stdout",
     "output_type": "stream",
     "text": [
      "Tests Passed\n"
     ]
    }
   ],
   "source": [
    "def decoding_layer_infer(encoder_state, dec_cell, dec_embeddings, start_of_sequence_id, end_of_sequence_id,\n",
    "                         maximum_length, vocab_size, decoding_scope, output_fn, keep_prob):\n",
    "    \"\"\"\n",
    "    Create a decoding layer for inference\n",
    "    : param encoder_state: Encoder state\n",
    "    : param dec_cell: Decoder RNN Cell\n",
    "    : param dec_embeddings: Decoder embeddings\n",
    "    : param start_of_sequence_id: GO ID\n",
    "    : param end_of_sequence_id: EOS Id\n",
    "    : param maximum_length: Maximum length of \n",
    "    : param vocab_size: Size of vocabulary\n",
    "    : param decoding_scope: TensorFlow Variable Scope for decoding\n",
    "    : param output_fn: Function to apply the output layer\n",
    "    :param keep_prob: Dropout keep probability\n",
    "    : return: Inference Logits\n",
    "    \"\"\"\n",
    "    # TODO: Implement Function\n",
    "\n",
    "    \n",
    "    \n",
    "    \n",
    "    infer_decoder_fn = tf.contrib.seq2seq.simple_decoder_fn_inference(\n",
    "        output_fn, encoder_state, dec_embeddings, start_of_sequence_id, end_of_sequence_id, \n",
    "        maximum_length - 1 , vocab_size)\n",
    "    \n",
    "    \n",
    "    inference_logits, _, _ = tf.contrib.seq2seq.dynamic_rnn_decoder(dec_cell, infer_decoder_fn, scope=decoding_scope)\n",
    "   \n",
    "    inference_logits = tf.nn.dropout(inference_logits, keep_prob)\n",
    "    \n",
    "    return inference_logits\n",
    "\n",
    "\n",
    "\"\"\"\n",
    "DON'T MODIFY ANYTHING IN THIS CELL THAT IS BELOW THIS LINE\n",
    "\"\"\"\n",
    "tests.test_decoding_layer_infer(decoding_layer_infer)"
   ]
  },
  {
   "cell_type": "markdown",
   "metadata": {
    "deletable": true,
    "editable": true
   },
   "source": [
    "### Build the Decoding Layer\n",
    "Implement `decoding_layer()` to create a Decoder RNN layer.\n",
    "\n",
    "- Create RNN cell for decoding using `rnn_size` and `num_layers`.\n",
    "- Create the output fuction using [`lambda`](https://docs.python.org/3/tutorial/controlflow.html#lambda-expressions) to transform it's input, logits, to class logits.\n",
    "- Use the your `decoding_layer_train(encoder_state, dec_cell, dec_embed_input, sequence_length, decoding_scope, output_fn, keep_prob)` function to get the training logits.\n",
    "- Use your `decoding_layer_infer(encoder_state, dec_cell, dec_embeddings, start_of_sequence_id, end_of_sequence_id, maximum_length, vocab_size, decoding_scope, output_fn, keep_prob)` function to get the inference logits.\n",
    "\n",
    "Note: You'll need to use [tf.variable_scope](https://www.tensorflow.org/api_docs/python/tf/variable_scope) to share variables between training and inference."
   ]
  },
  {
   "cell_type": "code",
   "execution_count": 13,
   "metadata": {
    "collapsed": false,
    "deletable": true,
    "editable": true
   },
   "outputs": [
    {
     "name": "stdout",
     "output_type": "stream",
     "text": [
      "Tests Passed\n"
     ]
    }
   ],
   "source": [
    "def decoding_layer(dec_embed_input, dec_embeddings, encoder_state, vocab_size, sequence_length, rnn_size,\n",
    "                   num_layers, target_vocab_to_int, keep_prob):\n",
    "    \"\"\"\n",
    "    Create decoding layer\n",
    "    : param dec_embed_input: Decoder embedded input\n",
    "    : param dec_embeddings: Decoder embeddings\n",
    "    : param encoder_state: The encoded state\n",
    "    : param vocab_size: Size of vocabulary\n",
    "    : param sequence_length: Sequence Length\n",
    "    : param rnn_size: RNN Size\n",
    "    : param num_layers: Number of layers\n",
    "    : param target_vocab_to_int: Dictionary to go from the target words to an id\n",
    "    : param keep_prob: Dropout keep probability\n",
    "    :return: Tuple of (Training Logits, Inference Logits)\n",
    "    \"\"\"\n",
    "    # TODO: Implement Function\n",
    "    \n",
    "    #OK Decoder RNNs \n",
    "    dec_cell = tf.contrib.rnn.MultiRNNCell([tf.contrib.rnn.BasicLSTMCell(rnn_size)] * num_layers)\n",
    "\n",
    "    with tf.variable_scope(\"decoding\") as decoding_scope:\n",
    "\n",
    "        output_fn = lambda x: tf.contrib.layers.fully_connected(x, vocab_size, None, scope=decoding_scope)\n",
    "        \n",
    "        train_logits = decoding_layer_train(encoder_state, dec_cell, dec_embed_input, sequence_length, decoding_scope, output_fn, keep_prob)\n",
    "\n",
    "        start_of_sequence_id = target_vocab_to_int['<GO>']\n",
    "        end_of_sequence_id = target_vocab_to_int['<EOS>']\n",
    "        maximum_length = sequence_length\n",
    "\n",
    " \n",
    "        decoding_scope.reuse_variables()\n",
    "        inference_logits = decoding_layer_infer(encoder_state, dec_cell, dec_embeddings, start_of_sequence_id, end_of_sequence_id, maximum_length, vocab_size, decoding_scope, output_fn, keep_prob)\n",
    "\n",
    "    return train_logits, inference_logits\n",
    "\n",
    "\n",
    "\"\"\"\n",
    "DON'T MODIFY ANYTHING IN THIS CELL THAT IS BELOW THIS LINE\n",
    "\"\"\"\n",
    "tests.test_decoding_layer(decoding_layer)"
   ]
  },
  {
   "cell_type": "markdown",
   "metadata": {
    "deletable": true,
    "editable": true
   },
   "source": [
    "### Build the Neural Network\n",
    "Apply the functions you implemented above to:\n",
    "\n",
    "- Apply embedding to the input data for the encoder.\n",
    "- Encode the input using your `encoding_layer(rnn_inputs, rnn_size, num_layers, keep_prob)`.\n",
    "- Process target data using your `process_decoding_input(target_data, target_vocab_to_int, batch_size)` function.\n",
    "- Apply embedding to the target data for the decoder.\n",
    "- Decode the encoded input using your `decoding_layer(dec_embed_input, dec_embeddings, encoder_state, vocab_size, sequence_length, rnn_size, num_layers, target_vocab_to_int, keep_prob)`."
   ]
  },
  {
   "cell_type": "code",
   "execution_count": 14,
   "metadata": {
    "collapsed": false,
    "deletable": true,
    "editable": true
   },
   "outputs": [
    {
     "name": "stdout",
     "output_type": "stream",
     "text": [
      "Tests Passed\n"
     ]
    }
   ],
   "source": [
    "def seq2seq_model(input_data, target_data, keep_prob, batch_size, sequence_length, source_vocab_size, target_vocab_size,\n",
    "                  enc_embedding_size, dec_embedding_size, rnn_size, num_layers, target_vocab_to_int):\n",
    "    \"\"\"\n",
    "    Build the Sequence-to-Sequence part of the neural network\n",
    "    : param input_data: Input placeholder\n",
    "    : param target_data: Target placeholder\n",
    "    : param keep_prob: Dropout keep probability placeholder\n",
    "    : param batch_size: Batch Size\n",
    "    : param sequence_length: Sequence Length\n",
    "    : param source_vocab_size: Source vocabulary size\n",
    "    : param target_vocab_size: Target vocabulary size\n",
    "    : param enc_embedding_size: Decoder embedding size\n",
    "    : param dec_embedding_size: Encoder embedding size\n",
    "    : param rnn_size: RNN Size\n",
    "    : param num_layers: Number of layers\n",
    "    : param target_vocab_to_int: Dictionary to go from the target words to an id\n",
    "    :return: Tuple of (Training Logits, Inference Logits)\n",
    "    \"\"\"\n",
    "    # TODO: Implement Function\n",
    "    # Encoder embedding\n",
    "    enc_embed_rnn_inputs = tf.contrib.layers.embed_sequence(input_data, source_vocab_size, enc_embedding_size)\n",
    "\n",
    "    encoder_state = encoding_layer(enc_embed_rnn_inputs, rnn_size, num_layers, keep_prob)\n",
    "\n",
    "    dec_input = process_decoding_input(target_data, target_vocab_to_int, batch_size)\n",
    "\n",
    "    dec_embeddings  = tf.Variable(tf.random_uniform([target_vocab_size, dec_embedding_size]))\n",
    "\n",
    "    dec_embed_input = tf.nn.embedding_lookup(dec_embeddings, dec_input)\n",
    "    \n",
    "    res = decoding_layer(dec_embed_input, dec_embeddings, encoder_state, target_vocab_size, sequence_length, rnn_size, num_layers, target_vocab_to_int, keep_prob)\n",
    "    return res\n",
    "\n",
    "\n",
    "\"\"\"\n",
    "DON'T MODIFY ANYTHING IN THIS CELL THAT IS BELOW THIS LINE\n",
    "\"\"\"\n",
    "tests.test_seq2seq_model(seq2seq_model)"
   ]
  },
  {
   "cell_type": "markdown",
   "metadata": {
    "deletable": true,
    "editable": true
   },
   "source": [
    "## Neural Network Training\n",
    "### Hyperparameters\n",
    "Tune the following parameters:\n",
    "\n",
    "- Set `epochs` to the number of epochs.\n",
    "- Set `batch_size` to the batch size.\n",
    "- Set `rnn_size` to the size of the RNNs.\n",
    "- Set `num_layers` to the number of layers.\n",
    "- Set `encoding_embedding_size` to the size of the embedding for the encoder.\n",
    "- Set `decoding_embedding_size` to the size of the embedding for the decoder.\n",
    "- Set `learning_rate` to the learning rate.\n",
    "- Set `keep_probability` to the Dropout keep probability"
   ]
  },
  {
   "cell_type": "code",
   "execution_count": 15,
   "metadata": {
    "collapsed": true,
    "deletable": true,
    "editable": true
   },
   "outputs": [],
   "source": [
    "# Number of Epochs\n",
    "epochs = 15\n",
    "# Batch Size\n",
    "batch_size = 256 * 16\n",
    "# RNN Size\n",
    "rnn_size = 256\n",
    "# Number of Layers\n",
    "num_layers = 2\n",
    "# Embedding Size\n",
    "encoding_embedding_size = 200\n",
    "decoding_embedding_size = 200\n",
    "# Learning Rate\n",
    "learning_rate = 0.005\n",
    "# Dropout Keep Probability\n",
    "keep_probability = 0.5"
   ]
  },
  {
   "cell_type": "markdown",
   "metadata": {
    "deletable": true,
    "editable": true
   },
   "source": [
    "### Build the Graph\n",
    "Build the graph using the neural network you implemented."
   ]
  },
  {
   "cell_type": "code",
   "execution_count": 16,
   "metadata": {
    "collapsed": false,
    "deletable": true,
    "editable": true
   },
   "outputs": [],
   "source": [
    "\"\"\"\n",
    "DON'T MODIFY ANYTHING IN THIS CELL\n",
    "\"\"\"\n",
    "save_path = 'checkpoints/dev'\n",
    "(source_int_text, target_int_text), (source_vocab_to_int, target_vocab_to_int), _ = helper.load_preprocess()\n",
    "max_target_sentence_length = max([len(sentence) for sentence in source_int_text])\n",
    "\n",
    "train_graph = tf.Graph()\n",
    "with train_graph.as_default():\n",
    "    input_data, targets, lr, keep_prob = model_inputs()\n",
    "    sequence_length = tf.placeholder_with_default(max_target_sentence_length, None, name='sequence_length')\n",
    "    input_shape = tf.shape(input_data)\n",
    "    \n",
    "    train_logits, inference_logits = seq2seq_model(\n",
    "        tf.reverse(input_data, [-1]), targets, keep_prob, batch_size, sequence_length, len(source_vocab_to_int), len(target_vocab_to_int),\n",
    "        encoding_embedding_size, decoding_embedding_size, rnn_size, num_layers, target_vocab_to_int)\n",
    "\n",
    "    tf.identity(inference_logits, 'logits')\n",
    "    with tf.name_scope(\"optimization\"):\n",
    "        # Loss function\n",
    "        cost = tf.contrib.seq2seq.sequence_loss(\n",
    "            train_logits,\n",
    "            targets,\n",
    "            tf.ones([input_shape[0], sequence_length]))\n",
    "\n",
    "        # Optimizer\n",
    "        optimizer = tf.train.AdamOptimizer(lr)\n",
    "\n",
    "        # Gradient Clipping\n",
    "        gradients = optimizer.compute_gradients(cost)\n",
    "        capped_gradients = [(tf.clip_by_value(grad, -1., 1.), var) for grad, var in gradients if grad is not None]\n",
    "        train_op = optimizer.apply_gradients(capped_gradients)"
   ]
  },
  {
   "cell_type": "markdown",
   "metadata": {
    "deletable": true,
    "editable": true
   },
   "source": [
    "### Train\n",
    "Train the neural network on the preprocessed data. If you have a hard time getting a good loss, check the forms to see if anyone is having the same problem."
   ]
  },
  {
   "cell_type": "code",
   "execution_count": 17,
   "metadata": {
    "collapsed": false,
    "deletable": true,
    "editable": true,
    "scrolled": true
   },
   "outputs": [
    {
     "name": "stdout",
     "output_type": "stream",
     "text": [
      "Epoch   0 Batch    0/33 - Train Accuracy:  0.307, Validation Accuracy:  0.306, Loss:  5.892\n",
      "Epoch   0 Batch    1/33 - Train Accuracy:  0.306, Validation Accuracy:  0.307, Loss:  4.598\n",
      "Epoch   0 Batch    2/33 - Train Accuracy:  0.340, Validation Accuracy:  0.339, Loss:  4.298\n",
      "Epoch   0 Batch    3/33 - Train Accuracy:  0.311, Validation Accuracy:  0.340, Loss:  3.886\n",
      "Epoch   0 Batch    4/33 - Train Accuracy:  0.342, Validation Accuracy:  0.340, Loss:  3.541\n",
      "Epoch   0 Batch    5/33 - Train Accuracy:  0.342, Validation Accuracy:  0.339, Loss:  3.412\n",
      "Epoch   0 Batch    6/33 - Train Accuracy:  0.348, Validation Accuracy:  0.347, Loss:  3.357\n",
      "Epoch   0 Batch    7/33 - Train Accuracy:  0.358, Validation Accuracy:  0.357, Loss:  3.289\n",
      "Epoch   0 Batch    8/33 - Train Accuracy:  0.373, Validation Accuracy:  0.373, Loss:  3.200\n",
      "Epoch   0 Batch    9/33 - Train Accuracy:  0.351, Validation Accuracy:  0.379, Loss:  3.225\n",
      "Epoch   0 Batch   10/33 - Train Accuracy:  0.363, Validation Accuracy:  0.363, Loss:  3.037\n",
      "Epoch   0 Batch   11/33 - Train Accuracy:  0.332, Validation Accuracy:  0.358, Loss:  3.073\n",
      "Epoch   0 Batch   12/33 - Train Accuracy:  0.330, Validation Accuracy:  0.362, Loss:  3.036\n",
      "Epoch   0 Batch   13/33 - Train Accuracy:  0.363, Validation Accuracy:  0.362, Loss:  2.851\n",
      "Epoch   0 Batch   14/33 - Train Accuracy:  0.344, Validation Accuracy:  0.373, Loss:  2.919\n",
      "Epoch   0 Batch   15/33 - Train Accuracy:  0.355, Validation Accuracy:  0.384, Loss:  2.880\n",
      "Epoch   0 Batch   16/33 - Train Accuracy:  0.378, Validation Accuracy:  0.406, Loss:  2.832\n",
      "Epoch   0 Batch   17/33 - Train Accuracy:  0.405, Validation Accuracy:  0.407, Loss:  2.740\n",
      "Epoch   0 Batch   18/33 - Train Accuracy:  0.412, Validation Accuracy:  0.413, Loss:  2.685\n",
      "Epoch   0 Batch   19/33 - Train Accuracy:  0.410, Validation Accuracy:  0.411, Loss:  2.626\n",
      "Epoch   0 Batch   20/33 - Train Accuracy:  0.398, Validation Accuracy:  0.427, Loss:  2.738\n",
      "Epoch   0 Batch   21/33 - Train Accuracy:  0.422, Validation Accuracy:  0.423, Loss:  2.558\n",
      "Epoch   0 Batch   22/33 - Train Accuracy:  0.480, Validation Accuracy:  0.428, Loss:  2.323\n",
      "Epoch   0 Batch   23/33 - Train Accuracy:  0.398, Validation Accuracy:  0.428, Loss:  2.629\n",
      "Epoch   0 Batch   24/33 - Train Accuracy:  0.404, Validation Accuracy:  0.431, Loss:  2.602\n",
      "Epoch   0 Batch   25/33 - Train Accuracy:  0.434, Validation Accuracy:  0.432, Loss:  2.444\n",
      "Epoch   0 Batch   26/33 - Train Accuracy:  0.453, Validation Accuracy:  0.450, Loss:  2.414\n",
      "Epoch   0 Batch   27/33 - Train Accuracy:  0.503, Validation Accuracy:  0.455, Loss:  2.214\n",
      "Epoch   0 Batch   28/33 - Train Accuracy:  0.427, Validation Accuracy:  0.453, Loss:  2.484\n",
      "Epoch   0 Batch   29/33 - Train Accuracy:  0.488, Validation Accuracy:  0.463, Loss:  2.255\n",
      "Epoch   0 Batch   30/33 - Train Accuracy:  0.465, Validation Accuracy:  0.463, Loss:  2.324\n",
      "Epoch   0 Batch   31/33 - Train Accuracy:  0.466, Validation Accuracy:  0.468, Loss:  2.333\n",
      "Epoch   1 Batch    0/33 - Train Accuracy:  0.477, Validation Accuracy:  0.475, Loss:  2.280\n",
      "Epoch   1 Batch    1/33 - Train Accuracy:  0.480, Validation Accuracy:  0.480, Loss:  2.270\n",
      "Epoch   1 Batch    2/33 - Train Accuracy:  0.475, Validation Accuracy:  0.476, Loss:  2.252\n",
      "Epoch   1 Batch    3/33 - Train Accuracy:  0.455, Validation Accuracy:  0.478, Loss:  2.325\n",
      "Epoch   1 Batch    4/33 - Train Accuracy:  0.490, Validation Accuracy:  0.488, Loss:  2.204\n",
      "Epoch   1 Batch    5/33 - Train Accuracy:  0.488, Validation Accuracy:  0.484, Loss:  2.174\n",
      "Epoch   1 Batch    6/33 - Train Accuracy:  0.486, Validation Accuracy:  0.486, Loss:  2.169\n",
      "Epoch   1 Batch    7/33 - Train Accuracy:  0.482, Validation Accuracy:  0.483, Loss:  2.158\n",
      "Epoch   1 Batch    8/33 - Train Accuracy:  0.490, Validation Accuracy:  0.490, Loss:  2.138\n",
      "Epoch   1 Batch    9/33 - Train Accuracy:  0.478, Validation Accuracy:  0.499, Loss:  2.197\n",
      "Epoch   1 Batch   10/33 - Train Accuracy:  0.471, Validation Accuracy:  0.473, Loss:  2.111\n",
      "Epoch   1 Batch   11/33 - Train Accuracy:  0.457, Validation Accuracy:  0.478, Loss:  2.184\n",
      "Epoch   1 Batch   12/33 - Train Accuracy:  0.430, Validation Accuracy:  0.459, Loss:  2.266\n",
      "Epoch   1 Batch   13/33 - Train Accuracy:  0.488, Validation Accuracy:  0.488, Loss:  2.098\n",
      "Epoch   1 Batch   14/33 - Train Accuracy:  0.466, Validation Accuracy:  0.489, Loss:  2.115\n",
      "Epoch   1 Batch   15/33 - Train Accuracy:  0.477, Validation Accuracy:  0.501, Loss:  2.175\n",
      "Epoch   1 Batch   16/33 - Train Accuracy:  0.459, Validation Accuracy:  0.481, Loss:  2.089\n",
      "Epoch   1 Batch   17/33 - Train Accuracy:  0.513, Validation Accuracy:  0.515, Loss:  2.025\n",
      "Epoch   1 Batch   18/33 - Train Accuracy:  0.516, Validation Accuracy:  0.513, Loss:  1.986\n",
      "Epoch   1 Batch   19/33 - Train Accuracy:  0.492, Validation Accuracy:  0.491, Loss:  1.973\n",
      "Epoch   1 Batch   20/33 - Train Accuracy:  0.491, Validation Accuracy:  0.513, Loss:  2.061\n",
      "Epoch   1 Batch   21/33 - Train Accuracy:  0.521, Validation Accuracy:  0.521, Loss:  1.928\n",
      "Epoch   1 Batch   22/33 - Train Accuracy:  0.567, Validation Accuracy:  0.523, Loss:  1.745\n",
      "Epoch   1 Batch   23/33 - Train Accuracy:  0.494, Validation Accuracy:  0.519, Loss:  1.993\n",
      "Epoch   1 Batch   24/33 - Train Accuracy:  0.481, Validation Accuracy:  0.506, Loss:  1.986\n",
      "Epoch   1 Batch   25/33 - Train Accuracy:  0.530, Validation Accuracy:  0.524, Loss:  1.871\n",
      "Epoch   1 Batch   26/33 - Train Accuracy:  0.522, Validation Accuracy:  0.516, Loss:  1.833\n",
      "Epoch   1 Batch   27/33 - Train Accuracy:  0.563, Validation Accuracy:  0.520, Loss:  1.682\n",
      "Epoch   1 Batch   28/33 - Train Accuracy:  0.501, Validation Accuracy:  0.522, Loss:  1.897\n",
      "Epoch   1 Batch   29/33 - Train Accuracy:  0.541, Validation Accuracy:  0.515, Loss:  1.705\n",
      "Epoch   1 Batch   30/33 - Train Accuracy:  0.525, Validation Accuracy:  0.523, Loss:  1.775\n",
      "Epoch   1 Batch   31/33 - Train Accuracy:  0.528, Validation Accuracy:  0.527, Loss:  1.785\n",
      "Epoch   2 Batch    0/33 - Train Accuracy:  0.533, Validation Accuracy:  0.530, Loss:  1.722\n",
      "Epoch   2 Batch    1/33 - Train Accuracy:  0.522, Validation Accuracy:  0.520, Loss:  1.703\n",
      "Epoch   2 Batch    2/33 - Train Accuracy:  0.533, Validation Accuracy:  0.533, Loss:  1.700\n",
      "Epoch   2 Batch    3/33 - Train Accuracy:  0.474, Validation Accuracy:  0.495, Loss:  1.774\n",
      "Epoch   2 Batch    4/33 - Train Accuracy:  0.533, Validation Accuracy:  0.528, Loss:  1.702\n",
      "Epoch   2 Batch    5/33 - Train Accuracy:  0.538, Validation Accuracy:  0.535, Loss:  1.627\n",
      "Epoch   2 Batch    6/33 - Train Accuracy:  0.504, Validation Accuracy:  0.503, Loss:  1.607\n",
      "Epoch   2 Batch    7/33 - Train Accuracy:  0.531, Validation Accuracy:  0.533, Loss:  1.620\n",
      "Epoch   2 Batch    8/33 - Train Accuracy:  0.533, Validation Accuracy:  0.532, Loss:  1.580\n",
      "Epoch   2 Batch    9/33 - Train Accuracy:  0.489, Validation Accuracy:  0.510, Loss:  1.603\n",
      "Epoch   2 Batch   10/33 - Train Accuracy:  0.530, Validation Accuracy:  0.532, Loss:  1.545\n",
      "Epoch   2 Batch   11/33 - Train Accuracy:  0.504, Validation Accuracy:  0.522, Loss:  1.575\n",
      "Epoch   2 Batch   12/33 - Train Accuracy:  0.499, Validation Accuracy:  0.530, Loss:  1.558\n",
      "Epoch   2 Batch   13/33 - Train Accuracy:  0.525, Validation Accuracy:  0.525, Loss:  1.440\n",
      "Epoch   2 Batch   14/33 - Train Accuracy:  0.515, Validation Accuracy:  0.535, Loss:  1.481\n",
      "Epoch   2 Batch   15/33 - Train Accuracy:  0.517, Validation Accuracy:  0.541, Loss:  1.474\n",
      "Epoch   2 Batch   16/33 - Train Accuracy:  0.522, Validation Accuracy:  0.540, Loss:  1.427\n",
      "Epoch   2 Batch   17/33 - Train Accuracy:  0.535, Validation Accuracy:  0.538, Loss:  1.350\n",
      "Epoch   2 Batch   18/33 - Train Accuracy:  0.549, Validation Accuracy:  0.546, Loss:  1.320\n",
      "Epoch   2 Batch   19/33 - Train Accuracy:  0.546, Validation Accuracy:  0.545, Loss:  1.289\n",
      "Epoch   2 Batch   20/33 - Train Accuracy:  0.516, Validation Accuracy:  0.541, Loss:  1.327\n",
      "Epoch   2 Batch   21/33 - Train Accuracy:  0.546, Validation Accuracy:  0.546, Loss:  1.245\n",
      "Epoch   2 Batch   22/33 - Train Accuracy:  0.581, Validation Accuracy:  0.536, Loss:  1.099\n",
      "Epoch   2 Batch   23/33 - Train Accuracy:  0.517, Validation Accuracy:  0.538, Loss:  1.250\n",
      "Epoch   2 Batch   24/33 - Train Accuracy:  0.506, Validation Accuracy:  0.526, Loss:  1.223\n",
      "Epoch   2 Batch   25/33 - Train Accuracy:  0.532, Validation Accuracy:  0.528, Loss:  1.136\n",
      "Epoch   2 Batch   26/33 - Train Accuracy:  0.532, Validation Accuracy:  0.526, Loss:  1.111\n",
      "Epoch   2 Batch   27/33 - Train Accuracy:  0.569, Validation Accuracy:  0.524, Loss:  1.006\n",
      "Epoch   2 Batch   28/33 - Train Accuracy:  0.505, Validation Accuracy:  0.524, Loss:  1.133\n",
      "Epoch   2 Batch   29/33 - Train Accuracy:  0.549, Validation Accuracy:  0.523, Loss:  1.016\n",
      "Epoch   2 Batch   30/33 - Train Accuracy:  0.528, Validation Accuracy:  0.525, Loss:  1.038\n",
      "Epoch   2 Batch   31/33 - Train Accuracy:  0.526, Validation Accuracy:  0.528, Loss:  1.034\n",
      "Epoch   3 Batch    0/33 - Train Accuracy:  0.523, Validation Accuracy:  0.525, Loss:  1.006\n",
      "Epoch   3 Batch    1/33 - Train Accuracy:  0.529, Validation Accuracy:  0.526, Loss:  0.990\n",
      "Epoch   3 Batch    2/33 - Train Accuracy:  0.534, Validation Accuracy:  0.534, Loss:  0.983\n",
      "Epoch   3 Batch    3/33 - Train Accuracy:  0.524, Validation Accuracy:  0.545, Loss:  1.010\n",
      "Epoch   3 Batch    4/33 - Train Accuracy:  0.557, Validation Accuracy:  0.554, Loss:  0.951\n",
      "Epoch   3 Batch    5/33 - Train Accuracy:  0.558, Validation Accuracy:  0.555, Loss:  0.935\n",
      "Epoch   3 Batch    6/33 - Train Accuracy:  0.557, Validation Accuracy:  0.554, Loss:  0.930\n",
      "Epoch   3 Batch    7/33 - Train Accuracy:  0.551, Validation Accuracy:  0.559, Loss:  0.929\n",
      "Epoch   3 Batch    8/33 - Train Accuracy:  0.550, Validation Accuracy:  0.551, Loss:  0.917\n",
      "Epoch   3 Batch    9/33 - Train Accuracy:  0.532, Validation Accuracy:  0.548, Loss:  0.937\n",
      "Epoch   3 Batch   10/33 - Train Accuracy:  0.544, Validation Accuracy:  0.548, Loss:  0.893\n",
      "Epoch   3 Batch   11/33 - Train Accuracy:  0.544, Validation Accuracy:  0.559, Loss:  0.917\n",
      "Epoch   3 Batch   12/33 - Train Accuracy:  0.547, Validation Accuracy:  0.573, Loss:  0.918\n",
      "Epoch   3 Batch   13/33 - Train Accuracy:  0.570, Validation Accuracy:  0.571, Loss:  0.857\n",
      "Epoch   3 Batch   14/33 - Train Accuracy:  0.552, Validation Accuracy:  0.566, Loss:  0.880\n",
      "Epoch   3 Batch   15/33 - Train Accuracy:  0.546, Validation Accuracy:  0.568, Loss:  0.882\n",
      "Epoch   3 Batch   16/33 - Train Accuracy:  0.554, Validation Accuracy:  0.568, Loss:  0.874\n",
      "Epoch   3 Batch   17/33 - Train Accuracy:  0.564, Validation Accuracy:  0.568, Loss:  0.832\n",
      "Epoch   3 Batch   18/33 - Train Accuracy:  0.571, Validation Accuracy:  0.569, Loss:  0.818\n",
      "Epoch   3 Batch   19/33 - Train Accuracy:  0.574, Validation Accuracy:  0.571, Loss:  0.811\n",
      "Epoch   3 Batch   20/33 - Train Accuracy:  0.555, Validation Accuracy:  0.570, Loss:  0.847\n",
      "Epoch   3 Batch   21/33 - Train Accuracy:  0.576, Validation Accuracy:  0.575, Loss:  0.802\n",
      "Epoch   3 Batch   22/33 - Train Accuracy:  0.620, Validation Accuracy:  0.575, Loss:  0.717\n",
      "Epoch   3 Batch   23/33 - Train Accuracy:  0.561, Validation Accuracy:  0.582, Loss:  0.825\n",
      "Epoch   3 Batch   24/33 - Train Accuracy:  0.568, Validation Accuracy:  0.588, Loss:  0.817\n",
      "Epoch   3 Batch   25/33 - Train Accuracy:  0.595, Validation Accuracy:  0.588, Loss:  0.769\n",
      "Epoch   3 Batch   26/33 - Train Accuracy:  0.601, Validation Accuracy:  0.592, Loss:  0.764\n",
      "Epoch   3 Batch   27/33 - Train Accuracy:  0.632, Validation Accuracy:  0.596, Loss:  0.696\n",
      "Epoch   3 Batch   28/33 - Train Accuracy:  0.577, Validation Accuracy:  0.595, Loss:  0.789\n",
      "Epoch   3 Batch   29/33 - Train Accuracy:  0.619, Validation Accuracy:  0.600, Loss:  0.719\n",
      "Epoch   3 Batch   30/33 - Train Accuracy:  0.601, Validation Accuracy:  0.596, Loss:  0.740\n",
      "Epoch   3 Batch   31/33 - Train Accuracy:  0.598, Validation Accuracy:  0.600, Loss:  0.746\n",
      "Epoch   4 Batch    0/33 - Train Accuracy:  0.610, Validation Accuracy:  0.609, Loss:  0.733\n",
      "Epoch   4 Batch    1/33 - Train Accuracy:  0.606, Validation Accuracy:  0.602, Loss:  0.722\n",
      "Epoch   4 Batch    2/33 - Train Accuracy:  0.603, Validation Accuracy:  0.603, Loss:  0.723\n",
      "Epoch   4 Batch    3/33 - Train Accuracy:  0.588, Validation Accuracy:  0.603, Loss:  0.748\n",
      "Epoch   4 Batch    4/33 - Train Accuracy:  0.608, Validation Accuracy:  0.603, Loss:  0.712\n",
      "Epoch   4 Batch    5/33 - Train Accuracy:  0.611, Validation Accuracy:  0.607, Loss:  0.701\n",
      "Epoch   4 Batch    6/33 - Train Accuracy:  0.614, Validation Accuracy:  0.610, Loss:  0.701\n",
      "Epoch   4 Batch    7/33 - Train Accuracy:  0.607, Validation Accuracy:  0.611, Loss:  0.707\n",
      "Epoch   4 Batch    8/33 - Train Accuracy:  0.619, Validation Accuracy:  0.613, Loss:  0.700\n",
      "Epoch   4 Batch    9/33 - Train Accuracy:  0.606, Validation Accuracy:  0.619, Loss:  0.719\n",
      "Epoch   4 Batch   10/33 - Train Accuracy:  0.614, Validation Accuracy:  0.614, Loss:  0.690\n",
      "Epoch   4 Batch   11/33 - Train Accuracy:  0.600, Validation Accuracy:  0.615, Loss:  0.714\n",
      "Epoch   4 Batch   12/33 - Train Accuracy:  0.597, Validation Accuracy:  0.620, Loss:  0.714\n",
      "Epoch   4 Batch   13/33 - Train Accuracy:  0.617, Validation Accuracy:  0.614, Loss:  0.676\n",
      "Epoch   4 Batch   14/33 - Train Accuracy:  0.606, Validation Accuracy:  0.621, Loss:  0.698\n",
      "Epoch   4 Batch   15/33 - Train Accuracy:  0.607, Validation Accuracy:  0.623, Loss:  0.696\n",
      "Epoch   4 Batch   16/33 - Train Accuracy:  0.617, Validation Accuracy:  0.628, Loss:  0.696\n",
      "Epoch   4 Batch   17/33 - Train Accuracy:  0.632, Validation Accuracy:  0.629, Loss:  0.662\n",
      "Epoch   4 Batch   18/33 - Train Accuracy:  0.632, Validation Accuracy:  0.627, Loss:  0.660\n",
      "Epoch   4 Batch   19/33 - Train Accuracy:  0.630, Validation Accuracy:  0.629, Loss:  0.655\n",
      "Epoch   4 Batch   20/33 - Train Accuracy:  0.613, Validation Accuracy:  0.630, Loss:  0.684\n",
      "Epoch   4 Batch   21/33 - Train Accuracy:  0.635, Validation Accuracy:  0.631, Loss:  0.651\n",
      "Epoch   4 Batch   22/33 - Train Accuracy:  0.671, Validation Accuracy:  0.630, Loss:  0.585\n",
      "Epoch   4 Batch   23/33 - Train Accuracy:  0.614, Validation Accuracy:  0.630, Loss:  0.674\n",
      "Epoch   4 Batch   24/33 - Train Accuracy:  0.613, Validation Accuracy:  0.630, Loss:  0.669\n",
      "Epoch   4 Batch   25/33 - Train Accuracy:  0.635, Validation Accuracy:  0.630, Loss:  0.636\n",
      "Epoch   4 Batch   26/33 - Train Accuracy:  0.640, Validation Accuracy:  0.630, Loss:  0.633\n",
      "Epoch   4 Batch   27/33 - Train Accuracy:  0.669, Validation Accuracy:  0.633, Loss:  0.580\n",
      "Epoch   4 Batch   28/33 - Train Accuracy:  0.619, Validation Accuracy:  0.634, Loss:  0.653\n",
      "Epoch   4 Batch   29/33 - Train Accuracy:  0.654, Validation Accuracy:  0.635, Loss:  0.601\n",
      "Epoch   4 Batch   30/33 - Train Accuracy:  0.635, Validation Accuracy:  0.631, Loss:  0.621\n",
      "Epoch   4 Batch   31/33 - Train Accuracy:  0.635, Validation Accuracy:  0.635, Loss:  0.623\n",
      "Epoch   5 Batch    0/33 - Train Accuracy:  0.639, Validation Accuracy:  0.640, Loss:  0.618\n",
      "Epoch   5 Batch    1/33 - Train Accuracy:  0.642, Validation Accuracy:  0.636, Loss:  0.611\n",
      "Epoch   5 Batch    2/33 - Train Accuracy:  0.638, Validation Accuracy:  0.637, Loss:  0.610\n",
      "Epoch   5 Batch    3/33 - Train Accuracy:  0.629, Validation Accuracy:  0.640, Loss:  0.632\n",
      "Epoch   5 Batch    4/33 - Train Accuracy:  0.651, Validation Accuracy:  0.644, Loss:  0.606\n",
      "Epoch   5 Batch    5/33 - Train Accuracy:  0.653, Validation Accuracy:  0.648, Loss:  0.596\n",
      "Epoch   5 Batch    6/33 - Train Accuracy:  0.649, Validation Accuracy:  0.646, Loss:  0.596\n",
      "Epoch   5 Batch    7/33 - Train Accuracy:  0.642, Validation Accuracy:  0.647, Loss:  0.602\n",
      "Epoch   5 Batch    8/33 - Train Accuracy:  0.652, Validation Accuracy:  0.648, Loss:  0.597\n",
      "Epoch   5 Batch    9/33 - Train Accuracy:  0.633, Validation Accuracy:  0.646, Loss:  0.619\n",
      "Epoch   5 Batch   10/33 - Train Accuracy:  0.653, Validation Accuracy:  0.650, Loss:  0.592\n",
      "Epoch   5 Batch   11/33 - Train Accuracy:  0.639, Validation Accuracy:  0.651, Loss:  0.611\n",
      "Epoch   5 Batch   12/33 - Train Accuracy:  0.626, Validation Accuracy:  0.647, Loss:  0.611\n",
      "Epoch   5 Batch   13/33 - Train Accuracy:  0.655, Validation Accuracy:  0.651, Loss:  0.583\n",
      "Epoch   5 Batch   14/33 - Train Accuracy:  0.633, Validation Accuracy:  0.644, Loss:  0.607\n",
      "Epoch   5 Batch   15/33 - Train Accuracy:  0.635, Validation Accuracy:  0.649, Loss:  0.609\n",
      "Epoch   5 Batch   16/33 - Train Accuracy:  0.643, Validation Accuracy:  0.654, Loss:  0.606\n",
      "Epoch   5 Batch   17/33 - Train Accuracy:  0.655, Validation Accuracy:  0.652, Loss:  0.572\n",
      "Epoch   5 Batch   18/33 - Train Accuracy:  0.664, Validation Accuracy:  0.658, Loss:  0.575\n",
      "Epoch   5 Batch   19/33 - Train Accuracy:  0.657, Validation Accuracy:  0.655, Loss:  0.567\n",
      "Epoch   5 Batch   20/33 - Train Accuracy:  0.638, Validation Accuracy:  0.654, Loss:  0.595\n",
      "Epoch   5 Batch   21/33 - Train Accuracy:  0.662, Validation Accuracy:  0.659, Loss:  0.570\n",
      "Epoch   5 Batch   22/33 - Train Accuracy:  0.693, Validation Accuracy:  0.660, Loss:  0.507\n",
      "Epoch   5 Batch   23/33 - Train Accuracy:  0.645, Validation Accuracy:  0.657, Loss:  0.588\n",
      "Epoch   5 Batch   24/33 - Train Accuracy:  0.644, Validation Accuracy:  0.659, Loss:  0.585\n",
      "Epoch   5 Batch   25/33 - Train Accuracy:  0.668, Validation Accuracy:  0.659, Loss:  0.560\n",
      "Epoch   5 Batch   26/33 - Train Accuracy:  0.647, Validation Accuracy:  0.636, Loss:  0.571\n",
      "Epoch   5 Batch   27/33 - Train Accuracy:  0.681, Validation Accuracy:  0.646, Loss:  0.559\n",
      "Epoch   5 Batch   28/33 - Train Accuracy:  0.642, Validation Accuracy:  0.654, Loss:  0.616\n",
      "Epoch   5 Batch   29/33 - Train Accuracy:  0.654, Validation Accuracy:  0.635, Loss:  0.540\n",
      "Epoch   5 Batch   30/33 - Train Accuracy:  0.652, Validation Accuracy:  0.646, Loss:  0.582\n",
      "Epoch   5 Batch   31/33 - Train Accuracy:  0.651, Validation Accuracy:  0.650, Loss:  0.575\n",
      "Epoch   6 Batch    0/33 - Train Accuracy:  0.656, Validation Accuracy:  0.657, Loss:  0.571\n",
      "Epoch   6 Batch    1/33 - Train Accuracy:  0.654, Validation Accuracy:  0.646, Loss:  0.550\n",
      "Epoch   6 Batch    2/33 - Train Accuracy:  0.659, Validation Accuracy:  0.658, Loss:  0.562\n",
      "Epoch   6 Batch    3/33 - Train Accuracy:  0.651, Validation Accuracy:  0.659, Loss:  0.575\n",
      "Epoch   6 Batch    4/33 - Train Accuracy:  0.660, Validation Accuracy:  0.655, Loss:  0.546\n",
      "Epoch   6 Batch    5/33 - Train Accuracy:  0.668, Validation Accuracy:  0.664, Loss:  0.541\n",
      "Epoch   6 Batch    6/33 - Train Accuracy:  0.669, Validation Accuracy:  0.666, Loss:  0.536\n",
      "Epoch   6 Batch    7/33 - Train Accuracy:  0.662, Validation Accuracy:  0.665, Loss:  0.547\n",
      "Epoch   6 Batch    8/33 - Train Accuracy:  0.671, Validation Accuracy:  0.667, Loss:  0.540\n",
      "Epoch   6 Batch    9/33 - Train Accuracy:  0.654, Validation Accuracy:  0.668, Loss:  0.555\n",
      "Epoch   6 Batch   10/33 - Train Accuracy:  0.668, Validation Accuracy:  0.665, Loss:  0.532\n",
      "Epoch   6 Batch   11/33 - Train Accuracy:  0.656, Validation Accuracy:  0.669, Loss:  0.549\n",
      "Epoch   6 Batch   12/33 - Train Accuracy:  0.650, Validation Accuracy:  0.670, Loss:  0.550\n",
      "Epoch   6 Batch   13/33 - Train Accuracy:  0.675, Validation Accuracy:  0.671, Loss:  0.521\n",
      "Epoch   6 Batch   14/33 - Train Accuracy:  0.660, Validation Accuracy:  0.672, Loss:  0.542\n",
      "Epoch   6 Batch   15/33 - Train Accuracy:  0.659, Validation Accuracy:  0.673, Loss:  0.539\n",
      "Epoch   6 Batch   16/33 - Train Accuracy:  0.665, Validation Accuracy:  0.675, Loss:  0.543\n",
      "Epoch   6 Batch   17/33 - Train Accuracy:  0.678, Validation Accuracy:  0.675, Loss:  0.512\n",
      "Epoch   6 Batch   18/33 - Train Accuracy:  0.681, Validation Accuracy:  0.676, Loss:  0.511\n",
      "Epoch   6 Batch   19/33 - Train Accuracy:  0.679, Validation Accuracy:  0.676, Loss:  0.509\n",
      "Epoch   6 Batch   20/33 - Train Accuracy:  0.667, Validation Accuracy:  0.678, Loss:  0.533\n",
      "Epoch   6 Batch   21/33 - Train Accuracy:  0.683, Validation Accuracy:  0.679, Loss:  0.508\n",
      "Epoch   6 Batch   22/33 - Train Accuracy:  0.715, Validation Accuracy:  0.681, Loss:  0.454\n",
      "Epoch   6 Batch   23/33 - Train Accuracy:  0.670, Validation Accuracy:  0.680, Loss:  0.521\n",
      "Epoch   6 Batch   24/33 - Train Accuracy:  0.668, Validation Accuracy:  0.681, Loss:  0.523\n",
      "Epoch   6 Batch   25/33 - Train Accuracy:  0.691, Validation Accuracy:  0.681, Loss:  0.495\n",
      "Epoch   6 Batch   26/33 - Train Accuracy:  0.693, Validation Accuracy:  0.683, Loss:  0.492\n",
      "Epoch   6 Batch   27/33 - Train Accuracy:  0.717, Validation Accuracy:  0.684, Loss:  0.449\n",
      "Epoch   6 Batch   28/33 - Train Accuracy:  0.674, Validation Accuracy:  0.684, Loss:  0.511\n",
      "Epoch   6 Batch   29/33 - Train Accuracy:  0.700, Validation Accuracy:  0.684, Loss:  0.466\n",
      "Epoch   6 Batch   30/33 - Train Accuracy:  0.694, Validation Accuracy:  0.686, Loss:  0.481\n",
      "Epoch   6 Batch   31/33 - Train Accuracy:  0.688, Validation Accuracy:  0.688, Loss:  0.486\n",
      "Epoch   7 Batch    0/33 - Train Accuracy:  0.691, Validation Accuracy:  0.688, Loss:  0.484\n",
      "Epoch   7 Batch    1/33 - Train Accuracy:  0.696, Validation Accuracy:  0.689, Loss:  0.474\n",
      "Epoch   7 Batch    2/33 - Train Accuracy:  0.689, Validation Accuracy:  0.691, Loss:  0.477\n",
      "Epoch   7 Batch    3/33 - Train Accuracy:  0.682, Validation Accuracy:  0.690, Loss:  0.490\n",
      "Epoch   7 Batch    4/33 - Train Accuracy:  0.696, Validation Accuracy:  0.690, Loss:  0.470\n",
      "Epoch   7 Batch    5/33 - Train Accuracy:  0.697, Validation Accuracy:  0.692, Loss:  0.462\n",
      "Epoch   7 Batch    6/33 - Train Accuracy:  0.699, Validation Accuracy:  0.694, Loss:  0.462\n",
      "Epoch   7 Batch    7/33 - Train Accuracy:  0.690, Validation Accuracy:  0.695, Loss:  0.469\n",
      "Epoch   7 Batch    8/33 - Train Accuracy:  0.697, Validation Accuracy:  0.695, Loss:  0.462\n",
      "Epoch   7 Batch    9/33 - Train Accuracy:  0.683, Validation Accuracy:  0.696, Loss:  0.478\n",
      "Epoch   7 Batch   10/33 - Train Accuracy:  0.697, Validation Accuracy:  0.695, Loss:  0.458\n",
      "Epoch   7 Batch   11/33 - Train Accuracy:  0.685, Validation Accuracy:  0.695, Loss:  0.473\n",
      "Epoch   7 Batch   12/33 - Train Accuracy:  0.675, Validation Accuracy:  0.693, Loss:  0.474\n",
      "Epoch   7 Batch   13/33 - Train Accuracy:  0.701, Validation Accuracy:  0.695, Loss:  0.453\n",
      "Epoch   7 Batch   14/33 - Train Accuracy:  0.686, Validation Accuracy:  0.696, Loss:  0.470\n",
      "Epoch   7 Batch   15/33 - Train Accuracy:  0.689, Validation Accuracy:  0.699, Loss:  0.465\n",
      "Epoch   7 Batch   16/33 - Train Accuracy:  0.693, Validation Accuracy:  0.700, Loss:  0.465\n",
      "Epoch   7 Batch   17/33 - Train Accuracy:  0.703, Validation Accuracy:  0.699, Loss:  0.438\n",
      "Epoch   7 Batch   18/33 - Train Accuracy:  0.709, Validation Accuracy:  0.701, Loss:  0.438\n",
      "Epoch   7 Batch   19/33 - Train Accuracy:  0.704, Validation Accuracy:  0.700, Loss:  0.437\n",
      "Epoch   7 Batch   20/33 - Train Accuracy:  0.690, Validation Accuracy:  0.703, Loss:  0.455\n",
      "Epoch   7 Batch   21/33 - Train Accuracy:  0.711, Validation Accuracy:  0.706, Loss:  0.434\n",
      "Epoch   7 Batch   22/33 - Train Accuracy:  0.737, Validation Accuracy:  0.705, Loss:  0.387\n",
      "Epoch   7 Batch   23/33 - Train Accuracy:  0.699, Validation Accuracy:  0.705, Loss:  0.444\n",
      "Epoch   7 Batch   24/33 - Train Accuracy:  0.697, Validation Accuracy:  0.707, Loss:  0.448\n",
      "Epoch   7 Batch   25/33 - Train Accuracy:  0.717, Validation Accuracy:  0.708, Loss:  0.420\n",
      "Epoch   7 Batch   26/33 - Train Accuracy:  0.720, Validation Accuracy:  0.708, Loss:  0.418\n",
      "Epoch   7 Batch   27/33 - Train Accuracy:  0.739, Validation Accuracy:  0.710, Loss:  0.381\n",
      "Epoch   7 Batch   28/33 - Train Accuracy:  0.703, Validation Accuracy:  0.710, Loss:  0.430\n",
      "Epoch   7 Batch   29/33 - Train Accuracy:  0.727, Validation Accuracy:  0.710, Loss:  0.393\n",
      "Epoch   7 Batch   30/33 - Train Accuracy:  0.721, Validation Accuracy:  0.711, Loss:  0.404\n",
      "Epoch   7 Batch   31/33 - Train Accuracy:  0.714, Validation Accuracy:  0.712, Loss:  0.409\n",
      "Epoch   8 Batch    0/33 - Train Accuracy:  0.717, Validation Accuracy:  0.713, Loss:  0.408\n",
      "Epoch   8 Batch    1/33 - Train Accuracy:  0.721, Validation Accuracy:  0.711, Loss:  0.400\n",
      "Epoch   8 Batch    2/33 - Train Accuracy:  0.712, Validation Accuracy:  0.712, Loss:  0.409\n",
      "Epoch   8 Batch    3/33 - Train Accuracy:  0.701, Validation Accuracy:  0.708, Loss:  0.432\n",
      "Epoch   8 Batch    4/33 - Train Accuracy:  0.712, Validation Accuracy:  0.707, Loss:  0.421\n",
      "Epoch   8 Batch    5/33 - Train Accuracy:  0.719, Validation Accuracy:  0.713, Loss:  0.409\n",
      "Epoch   8 Batch    6/33 - Train Accuracy:  0.718, Validation Accuracy:  0.712, Loss:  0.396\n",
      "Epoch   8 Batch    7/33 - Train Accuracy:  0.720, Validation Accuracy:  0.719, Loss:  0.413\n",
      "Epoch   8 Batch    8/33 - Train Accuracy:  0.723, Validation Accuracy:  0.723, Loss:  0.393\n",
      "Epoch   8 Batch    9/33 - Train Accuracy:  0.713, Validation Accuracy:  0.723, Loss:  0.415\n",
      "Epoch   8 Batch   10/33 - Train Accuracy:  0.723, Validation Accuracy:  0.722, Loss:  0.389\n",
      "Epoch   8 Batch   11/33 - Train Accuracy:  0.716, Validation Accuracy:  0.726, Loss:  0.404\n",
      "Epoch   8 Batch   12/33 - Train Accuracy:  0.713, Validation Accuracy:  0.727, Loss:  0.402\n",
      "Epoch   8 Batch   13/33 - Train Accuracy:  0.734, Validation Accuracy:  0.727, Loss:  0.380\n",
      "Epoch   8 Batch   14/33 - Train Accuracy:  0.718, Validation Accuracy:  0.730, Loss:  0.390\n",
      "Epoch   8 Batch   15/33 - Train Accuracy:  0.724, Validation Accuracy:  0.735, Loss:  0.390\n",
      "Epoch   8 Batch   16/33 - Train Accuracy:  0.725, Validation Accuracy:  0.731, Loss:  0.390\n",
      "Epoch   8 Batch   17/33 - Train Accuracy:  0.737, Validation Accuracy:  0.736, Loss:  0.366\n",
      "Epoch   8 Batch   18/33 - Train Accuracy:  0.742, Validation Accuracy:  0.741, Loss:  0.366\n",
      "Epoch   8 Batch   19/33 - Train Accuracy:  0.741, Validation Accuracy:  0.739, Loss:  0.361\n",
      "Epoch   8 Batch   20/33 - Train Accuracy:  0.735, Validation Accuracy:  0.739, Loss:  0.376\n",
      "Epoch   8 Batch   21/33 - Train Accuracy:  0.745, Validation Accuracy:  0.742, Loss:  0.361\n",
      "Epoch   8 Batch   22/33 - Train Accuracy:  0.767, Validation Accuracy:  0.736, Loss:  0.317\n",
      "Epoch   8 Batch   23/33 - Train Accuracy:  0.740, Validation Accuracy:  0.740, Loss:  0.369\n",
      "Epoch   8 Batch   24/33 - Train Accuracy:  0.737, Validation Accuracy:  0.743, Loss:  0.367\n",
      "Epoch   8 Batch   25/33 - Train Accuracy:  0.755, Validation Accuracy:  0.742, Loss:  0.346\n",
      "Epoch   8 Batch   26/33 - Train Accuracy:  0.760, Validation Accuracy:  0.747, Loss:  0.344\n",
      "Epoch   8 Batch   27/33 - Train Accuracy:  0.773, Validation Accuracy:  0.746, Loss:  0.316\n",
      "Epoch   8 Batch   28/33 - Train Accuracy:  0.744, Validation Accuracy:  0.745, Loss:  0.352\n",
      "Epoch   8 Batch   29/33 - Train Accuracy:  0.768, Validation Accuracy:  0.753, Loss:  0.323\n",
      "Epoch   8 Batch   30/33 - Train Accuracy:  0.754, Validation Accuracy:  0.748, Loss:  0.332\n",
      "Epoch   8 Batch   31/33 - Train Accuracy:  0.758, Validation Accuracy:  0.757, Loss:  0.338\n",
      "Epoch   9 Batch    0/33 - Train Accuracy:  0.761, Validation Accuracy:  0.757, Loss:  0.333\n",
      "Epoch   9 Batch    1/33 - Train Accuracy:  0.765, Validation Accuracy:  0.759, Loss:  0.325\n",
      "Epoch   9 Batch    2/33 - Train Accuracy:  0.759, Validation Accuracy:  0.759, Loss:  0.326\n",
      "Epoch   9 Batch    3/33 - Train Accuracy:  0.761, Validation Accuracy:  0.763, Loss:  0.333\n",
      "Epoch   9 Batch    4/33 - Train Accuracy:  0.767, Validation Accuracy:  0.759, Loss:  0.319\n",
      "Epoch   9 Batch    5/33 - Train Accuracy:  0.764, Validation Accuracy:  0.760, Loss:  0.312\n",
      "Epoch   9 Batch    6/33 - Train Accuracy:  0.768, Validation Accuracy:  0.764, Loss:  0.311\n",
      "Epoch   9 Batch    7/33 - Train Accuracy:  0.759, Validation Accuracy:  0.761, Loss:  0.316\n",
      "Epoch   9 Batch    8/33 - Train Accuracy:  0.761, Validation Accuracy:  0.755, Loss:  0.315\n",
      "Epoch   9 Batch    9/33 - Train Accuracy:  0.744, Validation Accuracy:  0.747, Loss:  0.331\n",
      "Epoch   9 Batch   10/33 - Train Accuracy:  0.763, Validation Accuracy:  0.761, Loss:  0.329\n",
      "Epoch   9 Batch   11/33 - Train Accuracy:  0.729, Validation Accuracy:  0.738, Loss:  0.345\n",
      "Epoch   9 Batch   12/33 - Train Accuracy:  0.708, Validation Accuracy:  0.722, Loss:  0.387\n",
      "Epoch   9 Batch   13/33 - Train Accuracy:  0.750, Validation Accuracy:  0.744, Loss:  0.391\n",
      "Epoch   9 Batch   14/33 - Train Accuracy:  0.722, Validation Accuracy:  0.733, Loss:  0.357\n",
      "Epoch   9 Batch   15/33 - Train Accuracy:  0.739, Validation Accuracy:  0.753, Loss:  0.382\n",
      "Epoch   9 Batch   16/33 - Train Accuracy:  0.735, Validation Accuracy:  0.741, Loss:  0.358\n",
      "Epoch   9 Batch   17/33 - Train Accuracy:  0.730, Validation Accuracy:  0.729, Loss:  0.338\n",
      "Epoch   9 Batch   18/33 - Train Accuracy:  0.757, Validation Accuracy:  0.755, Loss:  0.340\n",
      "Epoch   9 Batch   19/33 - Train Accuracy:  0.754, Validation Accuracy:  0.753, Loss:  0.320\n",
      "Epoch   9 Batch   20/33 - Train Accuracy:  0.756, Validation Accuracy:  0.765, Loss:  0.341\n",
      "Epoch   9 Batch   21/33 - Train Accuracy:  0.756, Validation Accuracy:  0.755, Loss:  0.317\n",
      "Epoch   9 Batch   22/33 - Train Accuracy:  0.776, Validation Accuracy:  0.751, Loss:  0.284\n",
      "Epoch   9 Batch   23/33 - Train Accuracy:  0.756, Validation Accuracy:  0.761, Loss:  0.326\n",
      "Epoch   9 Batch   24/33 - Train Accuracy:  0.749, Validation Accuracy:  0.763, Loss:  0.316\n",
      "Epoch   9 Batch   25/33 - Train Accuracy:  0.775, Validation Accuracy:  0.768, Loss:  0.306\n",
      "Epoch   9 Batch   26/33 - Train Accuracy:  0.778, Validation Accuracy:  0.773, Loss:  0.300\n",
      "Epoch   9 Batch   27/33 - Train Accuracy:  0.785, Validation Accuracy:  0.764, Loss:  0.272\n",
      "Epoch   9 Batch   28/33 - Train Accuracy:  0.769, Validation Accuracy:  0.777, Loss:  0.308\n",
      "Epoch   9 Batch   29/33 - Train Accuracy:  0.788, Validation Accuracy:  0.775, Loss:  0.277\n",
      "Epoch   9 Batch   30/33 - Train Accuracy:  0.781, Validation Accuracy:  0.776, Loss:  0.284\n",
      "Epoch   9 Batch   31/33 - Train Accuracy:  0.786, Validation Accuracy:  0.782, Loss:  0.290\n",
      "Epoch  10 Batch    0/33 - Train Accuracy:  0.784, Validation Accuracy:  0.782, Loss:  0.281\n",
      "Epoch  10 Batch    1/33 - Train Accuracy:  0.787, Validation Accuracy:  0.786, Loss:  0.276\n",
      "Epoch  10 Batch    2/33 - Train Accuracy:  0.789, Validation Accuracy:  0.791, Loss:  0.278\n",
      "Epoch  10 Batch    3/33 - Train Accuracy:  0.783, Validation Accuracy:  0.787, Loss:  0.283\n",
      "Epoch  10 Batch    4/33 - Train Accuracy:  0.797, Validation Accuracy:  0.793, Loss:  0.272\n",
      "Epoch  10 Batch    5/33 - Train Accuracy:  0.795, Validation Accuracy:  0.792, Loss:  0.265\n",
      "Epoch  10 Batch    6/33 - Train Accuracy:  0.802, Validation Accuracy:  0.798, Loss:  0.266\n",
      "Epoch  10 Batch    7/33 - Train Accuracy:  0.798, Validation Accuracy:  0.802, Loss:  0.268\n",
      "Epoch  10 Batch    8/33 - Train Accuracy:  0.804, Validation Accuracy:  0.803, Loss:  0.263\n",
      "Epoch  10 Batch    9/33 - Train Accuracy:  0.801, Validation Accuracy:  0.806, Loss:  0.273\n",
      "Epoch  10 Batch   10/33 - Train Accuracy:  0.809, Validation Accuracy:  0.807, Loss:  0.259\n",
      "Epoch  10 Batch   11/33 - Train Accuracy:  0.803, Validation Accuracy:  0.808, Loss:  0.269\n",
      "Epoch  10 Batch   12/33 - Train Accuracy:  0.801, Validation Accuracy:  0.805, Loss:  0.266\n",
      "Epoch  10 Batch   13/33 - Train Accuracy:  0.813, Validation Accuracy:  0.812, Loss:  0.252\n",
      "Epoch  10 Batch   14/33 - Train Accuracy:  0.804, Validation Accuracy:  0.813, Loss:  0.261\n",
      "Epoch  10 Batch   15/33 - Train Accuracy:  0.802, Validation Accuracy:  0.818, Loss:  0.259\n",
      "Epoch  10 Batch   16/33 - Train Accuracy:  0.805, Validation Accuracy:  0.820, Loss:  0.260\n",
      "Epoch  10 Batch   17/33 - Train Accuracy:  0.816, Validation Accuracy:  0.820, Loss:  0.246\n",
      "Epoch  10 Batch   18/33 - Train Accuracy:  0.816, Validation Accuracy:  0.821, Loss:  0.244\n",
      "Epoch  10 Batch   19/33 - Train Accuracy:  0.819, Validation Accuracy:  0.820, Loss:  0.241\n",
      "Epoch  10 Batch   20/33 - Train Accuracy:  0.817, Validation Accuracy:  0.820, Loss:  0.252\n",
      "Epoch  10 Batch   21/33 - Train Accuracy:  0.821, Validation Accuracy:  0.823, Loss:  0.242\n",
      "Epoch  10 Batch   22/33 - Train Accuracy:  0.847, Validation Accuracy:  0.824, Loss:  0.213\n",
      "Epoch  10 Batch   23/33 - Train Accuracy:  0.814, Validation Accuracy:  0.824, Loss:  0.246\n",
      "Epoch  10 Batch   24/33 - Train Accuracy:  0.815, Validation Accuracy:  0.825, Loss:  0.246\n",
      "Epoch  10 Batch   25/33 - Train Accuracy:  0.829, Validation Accuracy:  0.826, Loss:  0.233\n",
      "Epoch  10 Batch   26/33 - Train Accuracy:  0.834, Validation Accuracy:  0.826, Loss:  0.232\n",
      "Epoch  10 Batch   27/33 - Train Accuracy:  0.842, Validation Accuracy:  0.830, Loss:  0.211\n",
      "Epoch  10 Batch   28/33 - Train Accuracy:  0.823, Validation Accuracy:  0.827, Loss:  0.239\n",
      "Epoch  10 Batch   29/33 - Train Accuracy:  0.836, Validation Accuracy:  0.827, Loss:  0.217\n",
      "Epoch  10 Batch   30/33 - Train Accuracy:  0.832, Validation Accuracy:  0.831, Loss:  0.222\n",
      "Epoch  10 Batch   31/33 - Train Accuracy:  0.832, Validation Accuracy:  0.835, Loss:  0.227\n",
      "Epoch  11 Batch    0/33 - Train Accuracy:  0.836, Validation Accuracy:  0.835, Loss:  0.223\n",
      "Epoch  11 Batch    1/33 - Train Accuracy:  0.835, Validation Accuracy:  0.837, Loss:  0.218\n",
      "Epoch  11 Batch    2/33 - Train Accuracy:  0.841, Validation Accuracy:  0.840, Loss:  0.219\n",
      "Epoch  11 Batch    3/33 - Train Accuracy:  0.835, Validation Accuracy:  0.838, Loss:  0.226\n",
      "Epoch  11 Batch    4/33 - Train Accuracy:  0.838, Validation Accuracy:  0.839, Loss:  0.216\n",
      "Epoch  11 Batch    5/33 - Train Accuracy:  0.841, Validation Accuracy:  0.838, Loss:  0.212\n",
      "Epoch  11 Batch    6/33 - Train Accuracy:  0.844, Validation Accuracy:  0.844, Loss:  0.214\n",
      "Epoch  11 Batch    7/33 - Train Accuracy:  0.844, Validation Accuracy:  0.843, Loss:  0.218\n",
      "Epoch  11 Batch    8/33 - Train Accuracy:  0.842, Validation Accuracy:  0.840, Loss:  0.213\n",
      "Epoch  11 Batch    9/33 - Train Accuracy:  0.839, Validation Accuracy:  0.845, Loss:  0.219\n",
      "Epoch  11 Batch   10/33 - Train Accuracy:  0.845, Validation Accuracy:  0.846, Loss:  0.210\n",
      "Epoch  11 Batch   11/33 - Train Accuracy:  0.846, Validation Accuracy:  0.849, Loss:  0.216\n",
      "Epoch  11 Batch   12/33 - Train Accuracy:  0.841, Validation Accuracy:  0.850, Loss:  0.215\n",
      "Epoch  11 Batch   13/33 - Train Accuracy:  0.851, Validation Accuracy:  0.846, Loss:  0.204\n",
      "Epoch  11 Batch   14/33 - Train Accuracy:  0.845, Validation Accuracy:  0.852, Loss:  0.211\n",
      "Epoch  11 Batch   15/33 - Train Accuracy:  0.839, Validation Accuracy:  0.857, Loss:  0.209\n",
      "Epoch  11 Batch   16/33 - Train Accuracy:  0.845, Validation Accuracy:  0.852, Loss:  0.209\n",
      "Epoch  11 Batch   17/33 - Train Accuracy:  0.850, Validation Accuracy:  0.856, Loss:  0.199\n",
      "Epoch  11 Batch   18/33 - Train Accuracy:  0.855, Validation Accuracy:  0.856, Loss:  0.201\n",
      "Epoch  11 Batch   19/33 - Train Accuracy:  0.855, Validation Accuracy:  0.856, Loss:  0.195\n",
      "Epoch  11 Batch   20/33 - Train Accuracy:  0.849, Validation Accuracy:  0.858, Loss:  0.204\n",
      "Epoch  11 Batch   21/33 - Train Accuracy:  0.854, Validation Accuracy:  0.861, Loss:  0.199\n",
      "Epoch  11 Batch   22/33 - Train Accuracy:  0.878, Validation Accuracy:  0.860, Loss:  0.175\n",
      "Epoch  11 Batch   23/33 - Train Accuracy:  0.849, Validation Accuracy:  0.860, Loss:  0.199\n",
      "Epoch  11 Batch   24/33 - Train Accuracy:  0.851, Validation Accuracy:  0.859, Loss:  0.203\n",
      "Epoch  11 Batch   25/33 - Train Accuracy:  0.861, Validation Accuracy:  0.861, Loss:  0.191\n",
      "Epoch  11 Batch   26/33 - Train Accuracy:  0.863, Validation Accuracy:  0.860, Loss:  0.190\n",
      "Epoch  11 Batch   27/33 - Train Accuracy:  0.872, Validation Accuracy:  0.865, Loss:  0.173\n",
      "Epoch  11 Batch   28/33 - Train Accuracy:  0.861, Validation Accuracy:  0.865, Loss:  0.195\n",
      "Epoch  11 Batch   29/33 - Train Accuracy:  0.870, Validation Accuracy:  0.864, Loss:  0.179\n",
      "Epoch  11 Batch   30/33 - Train Accuracy:  0.873, Validation Accuracy:  0.866, Loss:  0.181\n",
      "Epoch  11 Batch   31/33 - Train Accuracy:  0.864, Validation Accuracy:  0.868, Loss:  0.186\n",
      "Epoch  12 Batch    0/33 - Train Accuracy:  0.871, Validation Accuracy:  0.870, Loss:  0.185\n",
      "Epoch  12 Batch    1/33 - Train Accuracy:  0.872, Validation Accuracy:  0.871, Loss:  0.179\n",
      "Epoch  12 Batch    2/33 - Train Accuracy:  0.869, Validation Accuracy:  0.874, Loss:  0.179\n",
      "Epoch  12 Batch    3/33 - Train Accuracy:  0.865, Validation Accuracy:  0.875, Loss:  0.186\n",
      "Epoch  12 Batch    4/33 - Train Accuracy:  0.869, Validation Accuracy:  0.874, Loss:  0.178\n",
      "Epoch  12 Batch    5/33 - Train Accuracy:  0.875, Validation Accuracy:  0.877, Loss:  0.174\n",
      "Epoch  12 Batch    6/33 - Train Accuracy:  0.876, Validation Accuracy:  0.878, Loss:  0.173\n",
      "Epoch  12 Batch    7/33 - Train Accuracy:  0.871, Validation Accuracy:  0.878, Loss:  0.180\n",
      "Epoch  12 Batch    8/33 - Train Accuracy:  0.873, Validation Accuracy:  0.878, Loss:  0.176\n",
      "Epoch  12 Batch    9/33 - Train Accuracy:  0.871, Validation Accuracy:  0.880, Loss:  0.182\n",
      "Epoch  12 Batch   10/33 - Train Accuracy:  0.877, Validation Accuracy:  0.878, Loss:  0.173\n",
      "Epoch  12 Batch   11/33 - Train Accuracy:  0.876, Validation Accuracy:  0.879, Loss:  0.181\n",
      "Epoch  12 Batch   12/33 - Train Accuracy:  0.876, Validation Accuracy:  0.885, Loss:  0.179\n",
      "Epoch  12 Batch   13/33 - Train Accuracy:  0.886, Validation Accuracy:  0.886, Loss:  0.169\n",
      "Epoch  12 Batch   14/33 - Train Accuracy:  0.872, Validation Accuracy:  0.885, Loss:  0.174\n",
      "Epoch  12 Batch   15/33 - Train Accuracy:  0.870, Validation Accuracy:  0.884, Loss:  0.173\n",
      "Epoch  12 Batch   16/33 - Train Accuracy:  0.874, Validation Accuracy:  0.887, Loss:  0.175\n",
      "Epoch  12 Batch   17/33 - Train Accuracy:  0.884, Validation Accuracy:  0.890, Loss:  0.165\n",
      "Epoch  12 Batch   18/33 - Train Accuracy:  0.882, Validation Accuracy:  0.891, Loss:  0.167\n",
      "Epoch  12 Batch   19/33 - Train Accuracy:  0.888, Validation Accuracy:  0.892, Loss:  0.162\n",
      "Epoch  12 Batch   20/33 - Train Accuracy:  0.885, Validation Accuracy:  0.892, Loss:  0.169\n",
      "Epoch  12 Batch   21/33 - Train Accuracy:  0.884, Validation Accuracy:  0.890, Loss:  0.164\n",
      "Epoch  12 Batch   22/33 - Train Accuracy:  0.902, Validation Accuracy:  0.892, Loss:  0.142\n",
      "Epoch  12 Batch   23/33 - Train Accuracy:  0.878, Validation Accuracy:  0.890, Loss:  0.163\n",
      "Epoch  12 Batch   24/33 - Train Accuracy:  0.880, Validation Accuracy:  0.891, Loss:  0.166\n",
      "Epoch  12 Batch   25/33 - Train Accuracy:  0.884, Validation Accuracy:  0.891, Loss:  0.158\n",
      "Epoch  12 Batch   26/33 - Train Accuracy:  0.891, Validation Accuracy:  0.890, Loss:  0.157\n",
      "Epoch  12 Batch   27/33 - Train Accuracy:  0.896, Validation Accuracy:  0.894, Loss:  0.144\n",
      "Epoch  12 Batch   28/33 - Train Accuracy:  0.889, Validation Accuracy:  0.894, Loss:  0.162\n",
      "Epoch  12 Batch   29/33 - Train Accuracy:  0.896, Validation Accuracy:  0.895, Loss:  0.146\n",
      "Epoch  12 Batch   30/33 - Train Accuracy:  0.899, Validation Accuracy:  0.898, Loss:  0.151\n",
      "Epoch  12 Batch   31/33 - Train Accuracy:  0.891, Validation Accuracy:  0.896, Loss:  0.155\n",
      "Epoch  13 Batch    0/33 - Train Accuracy:  0.890, Validation Accuracy:  0.897, Loss:  0.154\n",
      "Epoch  13 Batch    1/33 - Train Accuracy:  0.894, Validation Accuracy:  0.893, Loss:  0.148\n",
      "Epoch  13 Batch    2/33 - Train Accuracy:  0.886, Validation Accuracy:  0.894, Loss:  0.151\n",
      "Epoch  13 Batch    3/33 - Train Accuracy:  0.886, Validation Accuracy:  0.892, Loss:  0.157\n",
      "Epoch  13 Batch    4/33 - Train Accuracy:  0.891, Validation Accuracy:  0.892, Loss:  0.151\n",
      "Epoch  13 Batch    5/33 - Train Accuracy:  0.893, Validation Accuracy:  0.892, Loss:  0.148\n",
      "Epoch  13 Batch    6/33 - Train Accuracy:  0.894, Validation Accuracy:  0.895, Loss:  0.145\n",
      "Epoch  13 Batch    7/33 - Train Accuracy:  0.890, Validation Accuracy:  0.898, Loss:  0.148\n",
      "Epoch  13 Batch    8/33 - Train Accuracy:  0.897, Validation Accuracy:  0.899, Loss:  0.149\n",
      "Epoch  13 Batch    9/33 - Train Accuracy:  0.891, Validation Accuracy:  0.895, Loss:  0.152\n",
      "Epoch  13 Batch   10/33 - Train Accuracy:  0.896, Validation Accuracy:  0.897, Loss:  0.143\n",
      "Epoch  13 Batch   11/33 - Train Accuracy:  0.893, Validation Accuracy:  0.901, Loss:  0.149\n",
      "Epoch  13 Batch   12/33 - Train Accuracy:  0.894, Validation Accuracy:  0.900, Loss:  0.146\n",
      "Epoch  13 Batch   13/33 - Train Accuracy:  0.904, Validation Accuracy:  0.901, Loss:  0.139\n",
      "Epoch  13 Batch   14/33 - Train Accuracy:  0.898, Validation Accuracy:  0.903, Loss:  0.142\n",
      "Epoch  13 Batch   15/33 - Train Accuracy:  0.891, Validation Accuracy:  0.904, Loss:  0.143\n",
      "Epoch  13 Batch   16/33 - Train Accuracy:  0.895, Validation Accuracy:  0.904, Loss:  0.145\n",
      "Epoch  13 Batch   17/33 - Train Accuracy:  0.903, Validation Accuracy:  0.903, Loss:  0.135\n",
      "Epoch  13 Batch   18/33 - Train Accuracy:  0.898, Validation Accuracy:  0.903, Loss:  0.135\n",
      "Epoch  13 Batch   19/33 - Train Accuracy:  0.903, Validation Accuracy:  0.905, Loss:  0.133\n",
      "Epoch  13 Batch   20/33 - Train Accuracy:  0.899, Validation Accuracy:  0.904, Loss:  0.137\n",
      "Epoch  13 Batch   21/33 - Train Accuracy:  0.900, Validation Accuracy:  0.906, Loss:  0.133\n",
      "Epoch  13 Batch   22/33 - Train Accuracy:  0.916, Validation Accuracy:  0.907, Loss:  0.117\n",
      "Epoch  13 Batch   23/33 - Train Accuracy:  0.897, Validation Accuracy:  0.906, Loss:  0.134\n",
      "Epoch  13 Batch   24/33 - Train Accuracy:  0.897, Validation Accuracy:  0.906, Loss:  0.136\n",
      "Epoch  13 Batch   25/33 - Train Accuracy:  0.900, Validation Accuracy:  0.906, Loss:  0.129\n",
      "Epoch  13 Batch   26/33 - Train Accuracy:  0.906, Validation Accuracy:  0.904, Loss:  0.128\n",
      "Epoch  13 Batch   27/33 - Train Accuracy:  0.909, Validation Accuracy:  0.906, Loss:  0.117\n",
      "Epoch  13 Batch   28/33 - Train Accuracy:  0.904, Validation Accuracy:  0.908, Loss:  0.130\n",
      "Epoch  13 Batch   29/33 - Train Accuracy:  0.907, Validation Accuracy:  0.911, Loss:  0.119\n",
      "Epoch  13 Batch   30/33 - Train Accuracy:  0.911, Validation Accuracy:  0.911, Loss:  0.120\n",
      "Epoch  13 Batch   31/33 - Train Accuracy:  0.905, Validation Accuracy:  0.911, Loss:  0.125\n",
      "Epoch  14 Batch    0/33 - Train Accuracy:  0.907, Validation Accuracy:  0.910, Loss:  0.122\n",
      "Epoch  14 Batch    1/33 - Train Accuracy:  0.906, Validation Accuracy:  0.908, Loss:  0.119\n",
      "Epoch  14 Batch    2/33 - Train Accuracy:  0.906, Validation Accuracy:  0.907, Loss:  0.119\n",
      "Epoch  14 Batch    3/33 - Train Accuracy:  0.904, Validation Accuracy:  0.911, Loss:  0.122\n",
      "Epoch  14 Batch    4/33 - Train Accuracy:  0.910, Validation Accuracy:  0.910, Loss:  0.116\n",
      "Epoch  14 Batch    5/33 - Train Accuracy:  0.911, Validation Accuracy:  0.912, Loss:  0.114\n",
      "Epoch  14 Batch    6/33 - Train Accuracy:  0.909, Validation Accuracy:  0.912, Loss:  0.115\n",
      "Epoch  14 Batch    7/33 - Train Accuracy:  0.905, Validation Accuracy:  0.912, Loss:  0.119\n",
      "Epoch  14 Batch    8/33 - Train Accuracy:  0.909, Validation Accuracy:  0.910, Loss:  0.117\n",
      "Epoch  14 Batch    9/33 - Train Accuracy:  0.906, Validation Accuracy:  0.910, Loss:  0.120\n",
      "Epoch  14 Batch   10/33 - Train Accuracy:  0.911, Validation Accuracy:  0.910, Loss:  0.115\n",
      "Epoch  14 Batch   11/33 - Train Accuracy:  0.904, Validation Accuracy:  0.912, Loss:  0.119\n",
      "Epoch  14 Batch   12/33 - Train Accuracy:  0.906, Validation Accuracy:  0.914, Loss:  0.114\n",
      "Epoch  14 Batch   13/33 - Train Accuracy:  0.913, Validation Accuracy:  0.912, Loss:  0.111\n",
      "Epoch  14 Batch   14/33 - Train Accuracy:  0.902, Validation Accuracy:  0.908, Loss:  0.116\n",
      "Epoch  14 Batch   15/33 - Train Accuracy:  0.846, Validation Accuracy:  0.860, Loss:  0.123\n",
      "Epoch  14 Batch   16/33 - Train Accuracy:  0.744, Validation Accuracy:  0.759, Loss:  0.202\n",
      "Epoch  14 Batch   17/33 - Train Accuracy:  0.766, Validation Accuracy:  0.767, Loss:  0.602\n",
      "Epoch  14 Batch   18/33 - Train Accuracy:  0.683, Validation Accuracy:  0.678, Loss:  0.630\n",
      "Epoch  14 Batch   19/33 - Train Accuracy:  0.643, Validation Accuracy:  0.638, Loss:  0.938\n",
      "Epoch  14 Batch   20/33 - Train Accuracy:  0.644, Validation Accuracy:  0.660, Loss:  0.771\n",
      "Epoch  14 Batch   21/33 - Train Accuracy:  0.654, Validation Accuracy:  0.649, Loss:  0.647\n",
      "Epoch  14 Batch   22/33 - Train Accuracy:  0.748, Validation Accuracy:  0.719, Loss:  0.537\n",
      "Epoch  14 Batch   23/33 - Train Accuracy:  0.682, Validation Accuracy:  0.688, Loss:  0.529\n",
      "Epoch  14 Batch   24/33 - Train Accuracy:  0.701, Validation Accuracy:  0.708, Loss:  0.520\n",
      "Epoch  14 Batch   25/33 - Train Accuracy:  0.740, Validation Accuracy:  0.736, Loss:  0.445\n",
      "Epoch  14 Batch   26/33 - Train Accuracy:  0.767, Validation Accuracy:  0.751, Loss:  0.407\n",
      "Epoch  14 Batch   27/33 - Train Accuracy:  0.777, Validation Accuracy:  0.757, Loss:  0.355\n",
      "Epoch  14 Batch   28/33 - Train Accuracy:  0.765, Validation Accuracy:  0.769, Loss:  0.385\n",
      "Epoch  14 Batch   29/33 - Train Accuracy:  0.792, Validation Accuracy:  0.787, Loss:  0.336\n",
      "Epoch  14 Batch   30/33 - Train Accuracy:  0.794, Validation Accuracy:  0.796, Loss:  0.341\n",
      "Epoch  14 Batch   31/33 - Train Accuracy:  0.796, Validation Accuracy:  0.803, Loss:  0.338\n",
      "Model Trained and Saved\n"
     ]
    }
   ],
   "source": [
    "\"\"\"\n",
    "DON'T MODIFY ANYTHING IN THIS CELL\n",
    "\"\"\"\n",
    "import time\n",
    "\n",
    "def get_accuracy(target, logits):\n",
    "    \"\"\"\n",
    "    Calculate accuracy\n",
    "    \"\"\"\n",
    "    max_seq = max(target.shape[1], logits.shape[1])\n",
    "    if max_seq - target.shape[1]:\n",
    "        target = np.pad(\n",
    "            target_batch,\n",
    "            [(0,0),(0,max_seq - target_batch.shape[1]), (0,0)],\n",
    "            'constant')\n",
    "    if max_seq - batch_train_logits.shape[1]:\n",
    "        logits = np.pad(\n",
    "            logits,\n",
    "            [(0,0),(0,max_seq - logits.shape[1]), (0,0)],\n",
    "            'constant')\n",
    "\n",
    "    return np.mean(np.equal(target, np.argmax(logits, 2)))\n",
    "\n",
    "train_source = source_int_text[batch_size:]\n",
    "train_target = target_int_text[batch_size:]\n",
    "\n",
    "valid_source = helper.pad_sentence_batch(source_int_text[:batch_size])\n",
    "valid_target = helper.pad_sentence_batch(target_int_text[:batch_size])\n",
    "\n",
    "with tf.Session(graph=train_graph) as sess:\n",
    "    sess.run(tf.global_variables_initializer())\n",
    "\n",
    "    for epoch_i in range(epochs):\n",
    "        for batch_i, (source_batch, target_batch) in enumerate(\n",
    "                helper.batch_data(train_source, train_target, batch_size)):\n",
    "            start_time = time.time()\n",
    "            \n",
    "            _, loss = sess.run(\n",
    "                [train_op, cost],\n",
    "                {input_data: source_batch,\n",
    "                 targets: target_batch,\n",
    "                 lr: learning_rate,\n",
    "                 sequence_length: target_batch.shape[1],\n",
    "                 keep_prob: keep_probability})\n",
    "            \n",
    "            batch_train_logits = sess.run(\n",
    "                inference_logits,\n",
    "                {input_data: source_batch, keep_prob: 1.0})\n",
    "            batch_valid_logits = sess.run(\n",
    "                inference_logits,\n",
    "                {input_data: valid_source, keep_prob: 1.0})\n",
    "                \n",
    "            train_acc = get_accuracy(target_batch, batch_train_logits)\n",
    "            valid_acc = get_accuracy(np.array(valid_target), batch_valid_logits)\n",
    "            end_time = time.time()\n",
    "            print('Epoch {:>3} Batch {:>4}/{} - Train Accuracy: {:>6.3f}, Validation Accuracy: {:>6.3f}, Loss: {:>6.3f}'\n",
    "                  .format(epoch_i, batch_i, len(source_int_text) // batch_size, train_acc, valid_acc, loss))\n",
    "\n",
    "    # Save Model\n",
    "    saver = tf.train.Saver()\n",
    "    saver.save(sess, save_path)\n",
    "    print('Model Trained and Saved')"
   ]
  },
  {
   "cell_type": "markdown",
   "metadata": {
    "deletable": true,
    "editable": true
   },
   "source": [
    "### Save Parameters\n",
    "Save the `batch_size` and `save_path` parameters for inference."
   ]
  },
  {
   "cell_type": "code",
   "execution_count": 18,
   "metadata": {
    "collapsed": false,
    "deletable": true,
    "editable": true
   },
   "outputs": [],
   "source": [
    "\"\"\"\n",
    "DON'T MODIFY ANYTHING IN THIS CELL\n",
    "\"\"\"\n",
    "# Save parameters for checkpoint\n",
    "helper.save_params(save_path)"
   ]
  },
  {
   "cell_type": "markdown",
   "metadata": {
    "deletable": true,
    "editable": true
   },
   "source": [
    "# Checkpoint"
   ]
  },
  {
   "cell_type": "code",
   "execution_count": 19,
   "metadata": {
    "collapsed": false,
    "deletable": true,
    "editable": true
   },
   "outputs": [],
   "source": [
    "\"\"\"\n",
    "DON'T MODIFY ANYTHING IN THIS CELL\n",
    "\"\"\"\n",
    "import tensorflow as tf\n",
    "import numpy as np\n",
    "import helper\n",
    "import problem_unittests as tests\n",
    "\n",
    "_, (source_vocab_to_int, target_vocab_to_int), (source_int_to_vocab, target_int_to_vocab) = helper.load_preprocess()\n",
    "load_path = helper.load_params()"
   ]
  },
  {
   "cell_type": "markdown",
   "metadata": {
    "deletable": true,
    "editable": true
   },
   "source": [
    "## Sentence to Sequence\n",
    "To feed a sentence into the model for translation, you first need to preprocess it.  Implement the function `sentence_to_seq()` to preprocess new sentences.\n",
    "\n",
    "- Convert the sentence to lowercase\n",
    "- Convert words into ids using `vocab_to_int`\n",
    " - Convert words not in the vocabulary, to the `<UNK>` word id."
   ]
  },
  {
   "cell_type": "code",
   "execution_count": 20,
   "metadata": {
    "collapsed": false,
    "deletable": true,
    "editable": true
   },
   "outputs": [
    {
     "name": "stdout",
     "output_type": "stream",
     "text": [
      "Tests Passed\n"
     ]
    }
   ],
   "source": [
    "def sentence_to_seq(sentence, vocab_to_int):\n",
    "    \"\"\"\n",
    "    Convert a sentence to a sequence of ids\n",
    "    :param sentence: String\n",
    "    :param vocab_to_int: Dictionary to go from the words to an id\n",
    "    :return: List of word ids\n",
    "    \"\"\"\n",
    "    # TODO: Implement Function\n",
    "    sentence = sentence.lower()\n",
    "    s = [vocab_to_int.get(word, vocab_to_int['<UNK>']) for word in sentence.split()]\n",
    "    #s = [vocab_to_int[word] if word in vocab_to_int else vocab_to_int[\"<UNK>\"] for word in sentence.strip().split(\" \")]\n",
    "    return s\n",
    "\n",
    "\n",
    "\"\"\"\n",
    "DON'T MODIFY ANYTHING IN THIS CELL THAT IS BELOW THIS LINE\n",
    "\"\"\"\n",
    "tests.test_sentence_to_seq(sentence_to_seq)"
   ]
  },
  {
   "cell_type": "markdown",
   "metadata": {
    "deletable": true,
    "editable": true
   },
   "source": [
    "## Translate\n",
    "This will translate `translate_sentence` from English to French."
   ]
  },
  {
   "cell_type": "code",
   "execution_count": 21,
   "metadata": {
    "collapsed": false,
    "deletable": true,
    "editable": true
   },
   "outputs": [
    {
     "name": "stdout",
     "output_type": "stream",
     "text": [
      "Input\n",
      "  Word Ids:      [117, 116, 122, 129, 181, 127, 75]\n",
      "  English Words: ['he', 'saw', 'a', 'old', 'yellow', 'truck', '.']\n",
      "\n",
      "Prediction\n",
      "  Word Ids:      [190, 50, 209, 213, 282, 307, 229, 1]\n",
      "  French Words: ['il', 'a', 'vu', 'le', 'camion', 'blanc', '.', '<EOS>']\n"
     ]
    }
   ],
   "source": [
    "translate_sentence = 'he saw a old yellow truck .'\n",
    "\n",
    "\n",
    "\"\"\"\n",
    "DON'T MODIFY ANYTHING IN THIS CELL\n",
    "\"\"\"\n",
    "translate_sentence = sentence_to_seq(translate_sentence, source_vocab_to_int)\n",
    "\n",
    "loaded_graph = tf.Graph()\n",
    "with tf.Session(graph=loaded_graph) as sess:\n",
    "    # Load saved model\n",
    "    loader = tf.train.import_meta_graph(load_path + '.meta')\n",
    "    loader.restore(sess, load_path)\n",
    "\n",
    "    input_data = loaded_graph.get_tensor_by_name('input:0')\n",
    "    logits = loaded_graph.get_tensor_by_name('logits:0')\n",
    "    keep_prob = loaded_graph.get_tensor_by_name('keep_prob:0')\n",
    "\n",
    "    translate_logits = sess.run(logits, {input_data: [translate_sentence], keep_prob: 1.0})[0]\n",
    "\n",
    "print('Input')\n",
    "print('  Word Ids:      {}'.format([i for i in translate_sentence]))\n",
    "print('  English Words: {}'.format([source_int_to_vocab[i] for i in translate_sentence]))\n",
    "\n",
    "print('\\nPrediction')\n",
    "print('  Word Ids:      {}'.format([i for i in np.argmax(translate_logits, 1)]))\n",
    "print('  French Words: {}'.format([target_int_to_vocab[i] for i in np.argmax(translate_logits, 1)]))"
   ]
  },
  {
   "cell_type": "markdown",
   "metadata": {
    "deletable": true,
    "editable": true
   },
   "source": [
    "## Imperfect Translation\n",
    "You might notice that some sentences translate better than others.  Since the dataset you're using only has a vocabulary of 227 English words of the thousands that you use, you're only going to see good results using these words.  For this project, you don't need a perfect translation. However, if you want to create a better translation model, you'll need better data.\n",
    "\n",
    "You can train on the [WMT10 French-English corpus](http://www.statmt.org/wmt10/training-giga-fren.tar).  This dataset has more vocabulary and richer in topics discussed.  However, this will take you days to train, so make sure you've a GPU and the neural network is performing well on dataset we provided.  Just make sure you play with the WMT10 corpus after you've submitted this project.\n",
    "## Submitting This Project\n",
    "When submitting this project, make sure to run all the cells before saving the notebook. Save the notebook file as \"dlnd_language_translation.ipynb\" and save it as a HTML file under \"File\" -> \"Download as\". Include the \"helper.py\" and \"problem_unittests.py\" files in your submission."
   ]
  }
 ],
 "metadata": {
  "anaconda-cloud": {},
  "kernelspec": {
   "display_name": "Python [default]",
   "language": "python",
   "name": "python3"
  },
  "language_info": {
   "codemirror_mode": {
    "name": "ipython",
    "version": 3
   },
   "file_extension": ".py",
   "mimetype": "text/x-python",
   "name": "python",
   "nbconvert_exporter": "python",
   "pygments_lexer": "ipython3",
   "version": "3.5.2"
  }
 },
 "nbformat": 4,
 "nbformat_minor": 0
}
